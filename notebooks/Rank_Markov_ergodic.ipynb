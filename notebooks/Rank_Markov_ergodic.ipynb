{
 "cells": [
  {
   "cell_type": "markdown",
   "metadata": {},
   "source": [
    "# Full Rank Markov and Geographic Rank Markov \n",
    "\n",
    "**Author: Wei Kang <weikang9009@gmail.com>**"
   ]
  },
  {
   "cell_type": "code",
   "execution_count": 13,
   "metadata": {},
   "outputs": [],
   "source": [
    "import libpysal as ps\n",
    "import numpy as np\n",
    "import matplotlib.pyplot as plt\n",
    "%matplotlib inline\n",
    "import seaborn as sns\n",
    "import pandas as pd\n",
    "import geopandas as gpd"
   ]
  },
  {
   "cell_type": "markdown",
   "metadata": {},
   "source": [
    "## Full Rank Markov"
   ]
  },
  {
   "cell_type": "code",
   "execution_count": 14,
   "metadata": {},
   "outputs": [],
   "source": [
    "from giddy.markov import FullRank_Markov"
   ]
  },
  {
   "cell_type": "code",
   "execution_count": 15,
   "metadata": {},
   "outputs": [
    {
     "data": {
      "text/html": [
       "<div>\n",
       "<style scoped>\n",
       "    .dataframe tbody tr th:only-of-type {\n",
       "        vertical-align: middle;\n",
       "    }\n",
       "\n",
       "    .dataframe tbody tr th {\n",
       "        vertical-align: top;\n",
       "    }\n",
       "\n",
       "    .dataframe thead th {\n",
       "        text-align: right;\n",
       "    }\n",
       "</style>\n",
       "<table border=\"1\" class=\"dataframe\">\n",
       "  <thead>\n",
       "    <tr style=\"text-align: right;\">\n",
       "      <th></th>\n",
       "      <th>Name</th>\n",
       "      <th>STATE_FIPS</th>\n",
       "      <th>1929</th>\n",
       "      <th>1930</th>\n",
       "      <th>1931</th>\n",
       "      <th>1932</th>\n",
       "      <th>1933</th>\n",
       "      <th>1934</th>\n",
       "      <th>1935</th>\n",
       "      <th>1936</th>\n",
       "      <th>...</th>\n",
       "      <th>2000</th>\n",
       "      <th>2001</th>\n",
       "      <th>2002</th>\n",
       "      <th>2003</th>\n",
       "      <th>2004</th>\n",
       "      <th>2005</th>\n",
       "      <th>2006</th>\n",
       "      <th>2007</th>\n",
       "      <th>2008</th>\n",
       "      <th>2009</th>\n",
       "    </tr>\n",
       "  </thead>\n",
       "  <tbody>\n",
       "    <tr>\n",
       "      <th>0</th>\n",
       "      <td>Alabama</td>\n",
       "      <td>1</td>\n",
       "      <td>323</td>\n",
       "      <td>267</td>\n",
       "      <td>224</td>\n",
       "      <td>162</td>\n",
       "      <td>166</td>\n",
       "      <td>211</td>\n",
       "      <td>217</td>\n",
       "      <td>251</td>\n",
       "      <td>...</td>\n",
       "      <td>23471</td>\n",
       "      <td>24467</td>\n",
       "      <td>25161</td>\n",
       "      <td>26065</td>\n",
       "      <td>27665</td>\n",
       "      <td>29097</td>\n",
       "      <td>30634</td>\n",
       "      <td>31988</td>\n",
       "      <td>32819</td>\n",
       "      <td>32274</td>\n",
       "    </tr>\n",
       "    <tr>\n",
       "      <th>1</th>\n",
       "      <td>Arizona</td>\n",
       "      <td>4</td>\n",
       "      <td>600</td>\n",
       "      <td>520</td>\n",
       "      <td>429</td>\n",
       "      <td>321</td>\n",
       "      <td>308</td>\n",
       "      <td>362</td>\n",
       "      <td>416</td>\n",
       "      <td>462</td>\n",
       "      <td>...</td>\n",
       "      <td>25578</td>\n",
       "      <td>26232</td>\n",
       "      <td>26469</td>\n",
       "      <td>27106</td>\n",
       "      <td>28753</td>\n",
       "      <td>30671</td>\n",
       "      <td>32552</td>\n",
       "      <td>33470</td>\n",
       "      <td>33445</td>\n",
       "      <td>32077</td>\n",
       "    </tr>\n",
       "    <tr>\n",
       "      <th>2</th>\n",
       "      <td>Arkansas</td>\n",
       "      <td>5</td>\n",
       "      <td>310</td>\n",
       "      <td>228</td>\n",
       "      <td>215</td>\n",
       "      <td>157</td>\n",
       "      <td>157</td>\n",
       "      <td>187</td>\n",
       "      <td>207</td>\n",
       "      <td>247</td>\n",
       "      <td>...</td>\n",
       "      <td>22257</td>\n",
       "      <td>23532</td>\n",
       "      <td>23929</td>\n",
       "      <td>25074</td>\n",
       "      <td>26465</td>\n",
       "      <td>27512</td>\n",
       "      <td>29041</td>\n",
       "      <td>31070</td>\n",
       "      <td>31800</td>\n",
       "      <td>31493</td>\n",
       "    </tr>\n",
       "    <tr>\n",
       "      <th>3</th>\n",
       "      <td>California</td>\n",
       "      <td>6</td>\n",
       "      <td>991</td>\n",
       "      <td>887</td>\n",
       "      <td>749</td>\n",
       "      <td>580</td>\n",
       "      <td>546</td>\n",
       "      <td>603</td>\n",
       "      <td>660</td>\n",
       "      <td>771</td>\n",
       "      <td>...</td>\n",
       "      <td>32275</td>\n",
       "      <td>32750</td>\n",
       "      <td>32900</td>\n",
       "      <td>33801</td>\n",
       "      <td>35663</td>\n",
       "      <td>37463</td>\n",
       "      <td>40169</td>\n",
       "      <td>41943</td>\n",
       "      <td>42377</td>\n",
       "      <td>40902</td>\n",
       "    </tr>\n",
       "    <tr>\n",
       "      <th>4</th>\n",
       "      <td>Colorado</td>\n",
       "      <td>8</td>\n",
       "      <td>634</td>\n",
       "      <td>578</td>\n",
       "      <td>471</td>\n",
       "      <td>354</td>\n",
       "      <td>353</td>\n",
       "      <td>368</td>\n",
       "      <td>444</td>\n",
       "      <td>542</td>\n",
       "      <td>...</td>\n",
       "      <td>32949</td>\n",
       "      <td>34228</td>\n",
       "      <td>33963</td>\n",
       "      <td>34092</td>\n",
       "      <td>35543</td>\n",
       "      <td>37388</td>\n",
       "      <td>39662</td>\n",
       "      <td>41165</td>\n",
       "      <td>41719</td>\n",
       "      <td>40093</td>\n",
       "    </tr>\n",
       "  </tbody>\n",
       "</table>\n",
       "<p>5 rows × 83 columns</p>\n",
       "</div>"
      ],
      "text/plain": [
       "         Name  STATE_FIPS  1929  1930  1931  1932  1933  1934  1935  1936  \\\n",
       "0     Alabama           1   323   267   224   162   166   211   217   251   \n",
       "1     Arizona           4   600   520   429   321   308   362   416   462   \n",
       "2    Arkansas           5   310   228   215   157   157   187   207   247   \n",
       "3  California           6   991   887   749   580   546   603   660   771   \n",
       "4    Colorado           8   634   578   471   354   353   368   444   542   \n",
       "\n",
       "   ...   2000   2001   2002   2003   2004   2005   2006   2007   2008   2009  \n",
       "0  ...  23471  24467  25161  26065  27665  29097  30634  31988  32819  32274  \n",
       "1  ...  25578  26232  26469  27106  28753  30671  32552  33470  33445  32077  \n",
       "2  ...  22257  23532  23929  25074  26465  27512  29041  31070  31800  31493  \n",
       "3  ...  32275  32750  32900  33801  35663  37463  40169  41943  42377  40902  \n",
       "4  ...  32949  34228  33963  34092  35543  37388  39662  41165  41719  40093  \n",
       "\n",
       "[5 rows x 83 columns]"
      ]
     },
     "execution_count": 15,
     "metadata": {},
     "output_type": "execute_result"
    }
   ],
   "source": [
    "income_table = pd.read_csv(ps.examples.get_path(\"usjoin.csv\"))\n",
    "income_table.head()"
   ]
  },
  {
   "cell_type": "markdown",
   "metadata": {},
   "source": [
    "### Let's only select per capical incomes in years 1949-2009"
   ]
  },
  {
   "cell_type": "code",
   "execution_count": 16,
   "metadata": {},
   "outputs": [
    {
     "data": {
      "text/plain": [
       "array([[  833,   909,  1045, ..., 31988, 32819, 32274],\n",
       "       [ 1305,  1367,  1623, ..., 33470, 33445, 32077],\n",
       "       [  813,   847,   957, ..., 31070, 31800, 31493],\n",
       "       ...,\n",
       "       [ 1023,  1056,  1182, ..., 29769, 31265, 31843],\n",
       "       [ 1387,  1506,  1736, ..., 35839, 36594, 35676],\n",
       "       [ 1647,  1719,  1955, ..., 43453, 45177, 42504]])"
      ]
     },
     "execution_count": 16,
     "metadata": {},
     "output_type": "execute_result"
    }
   ],
   "source": [
    "pci = income_table[list(map(str,range(1949,2010)))].values\n",
    "pci"
   ]
  },
  {
   "cell_type": "code",
   "execution_count": 17,
   "metadata": {},
   "outputs": [
    {
     "data": {
      "text/plain": [
       "array([[46, 46, 46, ..., 41, 40, 39],\n",
       "       [25, 26, 23, ..., 36, 38, 41],\n",
       "       [47, 47, 47, ..., 43, 43, 43],\n",
       "       ...,\n",
       "       [40, 42, 42, ..., 47, 46, 42],\n",
       "       [18, 22, 17, ..., 25, 26, 25],\n",
       "       [ 7,  9,  8, ...,  6,  6,  7]])"
      ]
     },
     "execution_count": 17,
     "metadata": {},
     "output_type": "execute_result"
    }
   ],
   "source": [
    "m = FullRank_Markov(pci)\n",
    "m.ranks"
   ]
  },
  {
   "cell_type": "code",
   "execution_count": 18,
   "metadata": {},
   "outputs": [
    {
     "data": {
      "text/plain": [
       "array([[53.,  4.,  2., ...,  0.,  0.,  0.],\n",
       "       [ 6., 41.,  7., ...,  0.,  0.,  0.],\n",
       "       [ 1.,  9., 39., ...,  0.,  0.,  0.],\n",
       "       ...,\n",
       "       [ 0.,  0.,  0., ..., 31., 13.,  0.],\n",
       "       [ 0.,  0.,  0., ..., 12., 46.,  0.],\n",
       "       [ 0.,  0.,  0., ...,  0.,  0., 60.]])"
      ]
     },
     "execution_count": 18,
     "metadata": {},
     "output_type": "execute_result"
    }
   ],
   "source": [
    "m.transitions"
   ]
  },
  {
   "cell_type": "markdown",
   "metadata": {},
   "source": [
    "Full rank Markov transition probability matrix"
   ]
  },
  {
   "cell_type": "code",
   "execution_count": 19,
   "metadata": {},
   "outputs": [
    {
     "data": {
      "text/plain": [
       "array([[0.88333333, 0.06666667, 0.03333333, ..., 0.        , 0.        ,\n",
       "        0.        ],\n",
       "       [0.1       , 0.68333333, 0.11666667, ..., 0.        , 0.        ,\n",
       "        0.        ],\n",
       "       [0.01666667, 0.15      , 0.65      , ..., 0.        , 0.        ,\n",
       "        0.        ],\n",
       "       ...,\n",
       "       [0.        , 0.        , 0.        , ..., 0.51666667, 0.21666667,\n",
       "        0.        ],\n",
       "       [0.        , 0.        , 0.        , ..., 0.2       , 0.76666667,\n",
       "        0.        ],\n",
       "       [0.        , 0.        , 0.        , ..., 0.        , 0.        ,\n",
       "        1.        ]])"
      ]
     },
     "execution_count": 19,
     "metadata": {},
     "output_type": "execute_result"
    }
   ],
   "source": [
    "m.p"
   ]
  },
  {
   "cell_type": "code",
   "execution_count": 20,
   "metadata": {},
   "outputs": [
    {
     "data": {
      "text/plain": [
       "(array([47]), array([47]))"
      ]
     },
     "execution_count": 20,
     "metadata": {},
     "output_type": "execute_result"
    }
   ],
   "source": [
    "np.where(m.p == 1)"
   ]
  },
  {
   "cell_type": "markdown",
   "metadata": {},
   "source": [
    "The probability of staying in rank 48 is $100\\%$. Thus, this rank is not communicating with other ranks, meaning that if a US State currently ranks 48th in per capita income, it will always rank 48th in the future. In this case, there is not going to be a unique steady state distribution towards which the Markov Chain converges. Instead, the future distribution will be dependent on whether the system is traped in rank 48. And also because of this, the estimation of the first mean passage time becomes more complicated. Currently, `giddy` does not have a mechanism to deal with it."
   ]
  },
  {
   "cell_type": "markdown",
   "metadata": {},
   "source": [
    "The current implementation for estimating the steady state distribution in `giddy` ignores the possibility of being trapped in rank 48 and gives the following distribution."
   ]
  },
  {
   "cell_type": "markdown",
   "metadata": {},
   "source": [
    "The estimation of the first mean passage times will incur an error shown as follows:"
   ]
  },
  {
   "cell_type": "code",
   "execution_count": 11,
   "metadata": {},
   "outputs": [
    {
     "data": {
      "text/plain": [
       "array([[1.00000000e+00, 2.00000000e+00, 3.00000000e+00, ...,\n",
       "        2.50000000e+00, 4.50000000e+00, 2.11669182e+17],\n",
       "       [7.00000000e+00, 1.00000000e+00, 1.00000000e+00, ...,\n",
       "        2.00000000e+00, 4.00000000e+00, 2.11669182e+17],\n",
       "       [9.00000000e+00, 2.00000000e+00, 1.00000000e+00, ...,\n",
       "        2.00000000e+00, 4.00000000e+00, 2.11669182e+17],\n",
       "       ...,\n",
       "       [3.25000000e+01, 2.55000000e+01, 2.45000000e+01, ...,\n",
       "        1.00000000e+00, 3.00000000e+00, 2.11669182e+17],\n",
       "       [3.30000000e+01, 2.65000000e+01, 2.55000000e+01, ...,\n",
       "        1.00000000e+00, 1.00000000e+00, 2.11669182e+17],\n",
       "       [4.50359963e+15, 4.50359963e+15, 4.50359963e+15, ...,\n",
       "        4.50359963e+15, 4.50359963e+15, 1.00000000e+00]])"
      ]
     },
     "execution_count": 11,
     "metadata": {},
     "output_type": "execute_result"
    }
   ],
   "source": [
    "m.fmpt"
   ]
  },
  {
   "cell_type": "markdown",
   "metadata": {},
   "source": [
    "#### At the moment (due to the time limit for submitting the paper), I will suggest to use an external package `quantecon` to check whether the Markov Chain is ergodic. If not, we give some explanation and not calculating or ploting the first mean passage times. \n",
    "\n",
    "#### I will refactor `giddy` in the meantime to incorporate the non-ergodic chains when estimating steady state distributions and first mean passage times. "
   ]
  },
  {
   "cell_type": "markdown",
   "metadata": {},
   "source": [
    "## Use `quantecon` to check whether the Markov Chain is ergodic and which Markov states are not communicating with others"
   ]
  },
  {
   "cell_type": "markdown",
   "metadata": {},
   "source": [
    "#### (1) check whether the Markov Chain is ergodic\n",
    "\n",
    "```python\n",
    "mc.is_irreducible and mc.is_aperiodic\n",
    "```"
   ]
  },
  {
   "cell_type": "code",
   "execution_count": 31,
   "metadata": {},
   "outputs": [
    {
     "data": {
      "text/plain": [
       "False"
      ]
     },
     "execution_count": 31,
     "metadata": {},
     "output_type": "execute_result"
    }
   ],
   "source": [
    "import quantecon as qe\n",
    "mc = qe.MarkovChain(m.p)\n",
    "\n",
    "mc.is_irreducible and mc.is_aperiodic"
   ]
  },
  {
   "cell_type": "code",
   "execution_count": 35,
   "metadata": {},
   "outputs": [
    {
     "data": {
      "text/plain": [
       "array([[0.0212766, 0.0212766, 0.0212766, 0.0212766, 0.0212766, 0.0212766,\n",
       "        0.0212766, 0.0212766, 0.0212766, 0.0212766, 0.0212766, 0.0212766,\n",
       "        0.0212766, 0.0212766, 0.0212766, 0.0212766, 0.0212766, 0.0212766,\n",
       "        0.0212766, 0.0212766, 0.0212766, 0.0212766, 0.0212766, 0.0212766,\n",
       "        0.0212766, 0.0212766, 0.0212766, 0.0212766, 0.0212766, 0.0212766,\n",
       "        0.0212766, 0.0212766, 0.0212766, 0.0212766, 0.0212766, 0.0212766,\n",
       "        0.0212766, 0.0212766, 0.0212766, 0.0212766, 0.0212766, 0.0212766,\n",
       "        0.0212766, 0.0212766, 0.0212766, 0.0212766, 0.0212766, 0.       ],\n",
       "       [0.       , 0.       , 0.       , 0.       , 0.       , 0.       ,\n",
       "        0.       , 0.       , 0.       , 0.       , 0.       , 0.       ,\n",
       "        0.       , 0.       , 0.       , 0.       , 0.       , 0.       ,\n",
       "        0.       , 0.       , 0.       , 0.       , 0.       , 0.       ,\n",
       "        0.       , 0.       , 0.       , 0.       , 0.       , 0.       ,\n",
       "        0.       , 0.       , 0.       , 0.       , 0.       , 0.       ,\n",
       "        0.       , 0.       , 0.       , 0.       , 0.       , 0.       ,\n",
       "        0.       , 0.       , 0.       , 0.       , 0.       , 1.       ]])"
      ]
     },
     "execution_count": 35,
     "metadata": {},
     "output_type": "execute_result"
    }
   ],
   "source": [
    "mc.stationary_distributions"
   ]
  },
  {
   "cell_type": "code",
   "execution_count": 32,
   "metadata": {},
   "outputs": [
    {
     "data": {
      "text/plain": [
       "False"
      ]
     },
     "execution_count": 32,
     "metadata": {},
     "output_type": "execute_result"
    }
   ],
   "source": [
    "mc.is_irreducible"
   ]
  },
  {
   "cell_type": "code",
   "execution_count": 33,
   "metadata": {},
   "outputs": [
    {
     "data": {
      "text/plain": [
       "True"
      ]
     },
     "execution_count": 33,
     "metadata": {},
     "output_type": "execute_result"
    }
   ],
   "source": [
    "mc.is_aperiodic"
   ]
  },
  {
   "cell_type": "markdown",
   "metadata": {},
   "source": [
    "#### (2) check which Markov states are not communicating with others\n",
    "```python\n",
    "mc.num_communication_classes\n",
    "```\n",
    "\n",
    "```python\n",
    "mc.communication_classes\n",
    "```"
   ]
  },
  {
   "cell_type": "markdown",
   "metadata": {},
   "source": [
    "We have two sets of Markov states which are not communicating with each other"
   ]
  },
  {
   "cell_type": "code",
   "execution_count": 20,
   "metadata": {},
   "outputs": [
    {
     "data": {
      "text/plain": [
       "2"
      ]
     },
     "execution_count": 20,
     "metadata": {},
     "output_type": "execute_result"
    }
   ],
   "source": [
    "mc.num_communication_classes"
   ]
  },
  {
   "cell_type": "markdown",
   "metadata": {},
   "source": [
    "The first set contains all the Markov states (rank 1 to 47) and the second set contains only 1 Markov state (rank 48)"
   ]
  },
  {
   "cell_type": "code",
   "execution_count": 19,
   "metadata": {},
   "outputs": [
    {
     "data": {
      "text/plain": [
       "[array([ 0,  1,  2,  3,  4,  5,  6,  7,  8,  9, 10, 11, 12, 13, 14, 15, 16,\n",
       "        17, 18, 19, 20, 21, 22, 23, 24, 25, 26, 27, 28, 29, 30, 31, 32, 33,\n",
       "        34, 35, 36, 37, 38, 39, 40, 41, 42, 43, 44, 45, 46]), array([47])]"
      ]
     },
     "execution_count": 19,
     "metadata": {},
     "output_type": "execute_result"
    }
   ],
   "source": [
    "mc.communication_classes"
   ]
  },
  {
   "cell_type": "code",
   "execution_count": 34,
   "metadata": {},
   "outputs": [
    {
     "ename": "SyntaxError",
     "evalue": "unexpected EOF while parsing (<ipython-input-34-c86cad9976ff>, line 3)",
     "output_type": "error",
     "traceback": [
      "\u001b[0;36m  File \u001b[0;32m\"<ipython-input-34-c86cad9976ff>\"\u001b[0;36m, line \u001b[0;32m3\u001b[0m\n\u001b[0;31m    \u001b[0m\n\u001b[0m    ^\u001b[0m\n\u001b[0;31mSyntaxError\u001b[0m\u001b[0;31m:\u001b[0m unexpected EOF while parsing\n"
     ]
    }
   ],
   "source": [
    "from giddy.ergodic import steady_state as STEADY_STATE\n",
    "if mc.num_communication_classes==1:\n",
    "    STEADY_STATE(mp.)"
   ]
  },
  {
   "cell_type": "code",
   "execution_count": null,
   "metadata": {},
   "outputs": [],
   "source": []
  }
 ],
 "metadata": {
  "kernelspec": {
   "display_name": "Python 3",
   "language": "python",
   "name": "python3"
  },
  "language_info": {
   "codemirror_mode": {
    "name": "ipython",
    "version": 3
   },
   "file_extension": ".py",
   "mimetype": "text/x-python",
   "name": "python",
   "nbconvert_exporter": "python",
   "pygments_lexer": "ipython3",
   "version": "3.7.3"
  }
 },
 "nbformat": 4,
 "nbformat_minor": 2
}
