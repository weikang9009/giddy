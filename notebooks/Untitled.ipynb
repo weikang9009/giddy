{
 "cells": [
  {
   "cell_type": "code",
   "execution_count": 77,
   "metadata": {},
   "outputs": [],
   "source": [
    "import mapclassify as mc\n",
    "import numpy as np\n",
    "from sklearn import preprocessing\n",
    "from giddy.markov import Spatial_Markov,LISA_Markov,prais\n",
    "import libpysal\n",
    "import numpy.linalg as la\n",
    "import libpysal as ps"
   ]
  },
  {
   "cell_type": "code",
   "execution_count": 83,
   "metadata": {},
   "outputs": [
    {
     "data": {
      "text/plain": [
       "<giddy.markov.LISA_Markov at 0x1a25e383c8>"
      ]
     },
     "execution_count": 83,
     "metadata": {},
     "output_type": "execute_result"
    }
   ],
   "source": [
    "\n",
    "f = libpysal.io.open(libpysal.examples.get_path(\"usjoin.csv\"))\n",
    "years = list(range(1929, 2010))\n",
    "pci = np.array([f.by_col[str(y)] for y in years]).transpose()\n",
    "w = libpysal.io.open(libpysal.examples.get_path(\"states48.gal\")).read()\n",
    "np.random.seed(10)\n",
    "lm_random = LISA_Markov(pci, w, permutations=999)\n",
    "lm_random"
   ]
  },
  {
   "cell_type": "code",
   "execution_count": 84,
   "metadata": {},
   "outputs": [
    {
     "name": "stdout",
     "output_type": "stream",
     "text": [
      "0 [0. 0. 0. 1. 0. 2. 2. 0. 0. 1. 0. 0. 0. 0. 0. 0. 0. 2. 2. 0. 0. 0. 0. 0.\n",
      " 0. 1. 2. 2. 0. 2. 0. 0. 2. 0. 1. 2. 2. 0. 0. 0. 0. 0. 2. 0. 1. 2. 0. 0.]\n",
      "1 [0. 0. 0. 1. 0. 2. 2. 0. 0. 1. 0. 0. 0. 0. 0. 0. 0. 2. 2. 0. 0. 0. 0. 0.\n",
      " 0. 1. 2. 2. 0. 2. 0. 0. 2. 0. 1. 2. 2. 0. 0. 0. 0. 0. 2. 0. 1. 2. 0. 0.]\n",
      "2 [0. 0. 0. 1. 0. 2. 2. 0. 0. 1. 0. 0. 0. 0. 0. 0. 0. 2. 2. 0. 0. 0. 0. 0.\n",
      " 0. 1. 2. 2. 0. 2. 0. 0. 2. 0. 1. 2. 2. 0. 0. 0. 0. 0. 2. 0. 1. 2. 0. 0.]\n",
      "3 [0. 0. 0. 1. 0. 2. 2. 0. 0. 1. 0. 0. 0. 0. 0. 0. 0. 2. 2. 0. 0. 0. 0. 0.\n",
      " 0. 1. 2. 2. 0. 2. 0. 0. 2. 0. 1. 2. 2. 0. 0. 0. 0. 0. 2. 0. 1. 2. 0. 0.]\n",
      "4 [0. 0. 0. 1. 0. 2. 2. 0. 0. 1. 0. 0. 0. 0. 0. 0. 0. 2. 2. 0. 0. 0. 0. 0.\n",
      " 0. 1. 2. 2. 0. 2. 0. 0. 2. 0. 1. 2. 2. 0. 0. 0. 0. 0. 2. 0. 1. 2. 0. 0.]\n"
     ]
    }
   ],
   "source": [
    "for i in range(5):\n",
    "    r = lm_random.spillover()\n",
    "    print(i,r['components'][:,12])"
   ]
  },
  {
   "cell_type": "code",
   "execution_count": 88,
   "metadata": {},
   "outputs": [
    {
     "data": {
      "text/plain": [
       "17"
      ]
     },
     "execution_count": 88,
     "metadata": {},
     "output_type": "execute_result"
    }
   ],
   "source": [
    "(r['components'][:,12] > 0).sum()"
   ]
  },
  {
   "cell_type": "code",
   "execution_count": 91,
   "metadata": {},
   "outputs": [
    {
     "data": {
      "text/plain": [
       "6"
      ]
     },
     "execution_count": 91,
     "metadata": {},
     "output_type": "execute_result"
    }
   ],
   "source": [
    "(r['spill_over'][:,12]>0).sum()"
   ]
  },
  {
   "cell_type": "code",
   "execution_count": 94,
   "metadata": {},
   "outputs": [
    {
     "data": {
      "text/plain": [
       "8"
      ]
     },
     "execution_count": 94,
     "metadata": {},
     "output_type": "execute_result"
    }
   ],
   "source": [
    "(rn[\"spill_over\"][:,12] > 0).sum()"
   ]
  },
  {
   "cell_type": "code",
   "execution_count": 79,
   "metadata": {},
   "outputs": [
    {
     "name": "stdout",
     "output_type": "stream",
     "text": [
      "0 [0. 0. 0. 1. 0. 2. 2. 0. 0. 1. 0. 0. 0. 0. 0. 0. 0. 2. 2. 0. 0. 0. 0. 0.\n",
      " 0. 1. 2. 2. 0. 2. 0. 0. 2. 0. 1. 2. 2. 0. 0. 0. 0. 0. 2. 0. 1. 2. 0. 0.]\n",
      "1 [0. 0. 0. 1. 0. 2. 2. 0. 0. 1. 0. 0. 0. 0. 0. 0. 0. 2. 2. 0. 0. 0. 0. 0.\n",
      " 0. 1. 2. 2. 0. 2. 0. 0. 2. 0. 1. 2. 2. 0. 0. 0. 0. 0. 2. 0. 1. 2. 0. 0.]\n",
      "2 [0. 0. 0. 1. 0. 2. 2. 0. 0. 1. 0. 0. 0. 0. 0. 0. 0. 2. 2. 0. 0. 0. 0. 0.\n",
      " 0. 1. 2. 2. 0. 2. 0. 0. 2. 0. 1. 2. 2. 0. 0. 0. 0. 0. 2. 0. 1. 2. 0. 0.]\n",
      "3 [0. 0. 0. 1. 0. 2. 2. 0. 0. 1. 0. 0. 0. 0. 0. 0. 0. 2. 2. 0. 0. 0. 0. 0.\n",
      " 0. 1. 2. 2. 0. 2. 0. 0. 2. 0. 1. 2. 2. 0. 0. 0. 0. 0. 2. 0. 1. 2. 0. 0.]\n",
      "4 [0. 0. 0. 1. 0. 2. 2. 0. 0. 1. 0. 0. 0. 0. 0. 0. 0. 2. 2. 0. 0. 0. 0. 0.\n",
      " 0. 1. 2. 2. 0. 2. 0. 0. 2. 0. 1. 2. 2. 0. 0. 0. 0. 0. 2. 0. 1. 2. 0. 0.]\n"
     ]
    }
   ],
   "source": [
    "\n",
    "for i in range(5):\n",
    "    r = lm_random.spillover()\n",
    "    print(i,r['components'][:,12])"
   ]
  },
  {
   "cell_type": "code",
   "execution_count": 80,
   "metadata": {},
   "outputs": [
    {
     "data": {
      "text/plain": [
       "array([0., 1., 0., 1., 0., 2., 2., 0., 0., 1., 0., 0., 0., 0., 0., 0., 0.,\n",
       "       2., 2., 0., 0., 0., 0., 0., 0., 1., 0., 2., 0., 2., 0., 0., 2., 0.,\n",
       "       1., 2., 2., 0., 0., 0., 0., 0., 2., 0., 1., 2., 0., 0.])"
      ]
     },
     "execution_count": 80,
     "metadata": {},
     "output_type": "execute_result"
    }
   ],
   "source": [
    "r['components'][:,14]"
   ]
  },
  {
   "cell_type": "code",
   "execution_count": 81,
   "metadata": {},
   "outputs": [
    {
     "data": {
      "text/plain": [
       "array([0., 1., 0., 0., 1., 0., 0., 0., 0., 0., 0., 0., 0., 0., 0., 0., 0.,\n",
       "       0., 0., 0., 0., 0., 0., 1., 0., 0., 0., 0., 1., 0., 0., 0., 0., 0.,\n",
       "       0., 0., 0., 0., 0., 0., 0., 1., 0., 0., 0., 0., 0., 1.])"
      ]
     },
     "execution_count": 81,
     "metadata": {},
     "output_type": "execute_result"
    }
   ],
   "source": [
    "r['spill_over'][:,12]"
   ]
  },
  {
   "cell_type": "code",
   "execution_count": 85,
   "metadata": {},
   "outputs": [
    {
     "name": "stdout",
     "output_type": "stream",
     "text": [
      "0 [0. 1. 0. 1. 1. 2. 2. 0. 0. 1. 0. 2. 0. 1. 2. 0. 2. 2. 2. 2. 0. 0. 0. 1.\n",
      " 1. 1. 2. 2. 1. 2. 0. 1. 2. 1. 1. 2. 2. 0. 1. 0. 1. 1. 2. 2. 1. 2. 0. 1.]\n",
      "1 [0. 1. 0. 1. 1. 2. 2. 0. 0. 1. 0. 2. 0. 1. 2. 0. 2. 2. 2. 2. 0. 0. 0. 1.\n",
      " 1. 1. 2. 2. 1. 2. 0. 1. 2. 1. 1. 2. 2. 0. 1. 0. 1. 1. 2. 2. 1. 2. 0. 1.]\n",
      "2 [0. 1. 0. 1. 1. 2. 2. 0. 0. 1. 0. 2. 0. 1. 2. 0. 2. 2. 2. 2. 0. 0. 0. 1.\n",
      " 1. 1. 2. 2. 1. 2. 0. 1. 2. 1. 1. 2. 2. 0. 1. 0. 1. 1. 2. 2. 1. 2. 0. 1.]\n",
      "3 [0. 1. 0. 1. 1. 2. 2. 0. 0. 1. 0. 2. 0. 1. 2. 0. 2. 2. 2. 2. 0. 0. 0. 1.\n",
      " 1. 1. 2. 2. 1. 2. 0. 1. 2. 1. 1. 2. 2. 0. 1. 0. 1. 1. 2. 2. 1. 2. 0. 1.]\n",
      "4 [0. 1. 0. 1. 1. 2. 2. 0. 0. 1. 0. 2. 0. 1. 2. 0. 2. 2. 2. 2. 0. 0. 0. 1.\n",
      " 1. 1. 2. 2. 1. 2. 0. 1. 2. 1. 1. 2. 2. 0. 1. 0. 1. 1. 2. 2. 1. 2. 0. 1.]\n",
      "5 [0. 1. 0. 1. 1. 2. 2. 0. 0. 1. 0. 2. 0. 1. 2. 0. 2. 2. 2. 2. 0. 0. 0. 1.\n",
      " 1. 1. 2. 2. 1. 2. 0. 1. 2. 1. 1. 2. 2. 0. 1. 0. 1. 1. 2. 2. 1. 2. 0. 1.]\n",
      "6 [0. 1. 0. 1. 1. 2. 2. 0. 0. 1. 0. 2. 0. 1. 2. 0. 2. 2. 2. 2. 0. 0. 0. 1.\n",
      " 1. 1. 2. 2. 1. 2. 0. 1. 2. 1. 1. 2. 2. 0. 1. 0. 1. 1. 2. 2. 1. 2. 0. 1.]\n",
      "7 [0. 1. 0. 1. 1. 2. 2. 0. 0. 1. 0. 2. 0. 1. 2. 0. 2. 2. 2. 2. 0. 0. 0. 1.\n",
      " 1. 1. 2. 2. 1. 2. 0. 1. 2. 1. 1. 2. 2. 0. 1. 0. 1. 1. 2. 2. 1. 2. 0. 1.]\n",
      "8 [0. 1. 0. 1. 1. 2. 2. 0. 0. 1. 0. 2. 0. 1. 2. 0. 2. 2. 2. 2. 0. 0. 0. 1.\n",
      " 1. 1. 2. 2. 1. 2. 0. 1. 2. 1. 1. 2. 2. 0. 1. 0. 1. 1. 2. 2. 1. 2. 0. 1.]\n",
      "9 [0. 1. 0. 1. 1. 2. 2. 0. 0. 1. 0. 2. 0. 1. 2. 0. 2. 2. 2. 2. 0. 0. 0. 1.\n",
      " 1. 1. 2. 2. 1. 2. 0. 1. 2. 1. 1. 2. 2. 0. 1. 0. 1. 1. 2. 2. 1. 2. 0. 1.]\n"
     ]
    }
   ],
   "source": [
    "for i in range(10):\n",
    "    rn = lm_random.spillover(neighbors_on=True)\n",
    "    print(i,rn[\"components\"][:,13])"
   ]
  },
  {
   "cell_type": "code",
   "execution_count": 87,
   "metadata": {},
   "outputs": [
    {
     "data": {
      "text/plain": [
       "array([0., 1., 2.])"
      ]
     },
     "execution_count": 87,
     "metadata": {},
     "output_type": "execute_result"
    }
   ],
   "source": [
    "np.unique(rn[\"components\"])"
   ]
  },
  {
   "cell_type": "code",
   "execution_count": 82,
   "metadata": {},
   "outputs": [
    {
     "name": "stdout",
     "output_type": "stream",
     "text": [
      "0 [0. 1. 0. 1. 1. 2. 2. 0. 0. 1. 0. 2. 0. 1. 2. 0. 2. 2. 2. 2. 0. 0. 0. 1.\n",
      " 1. 1. 2. 2. 1. 2. 0. 1. 2. 1. 1. 2. 2. 0. 1. 0. 1. 1. 2. 2. 1. 2. 0. 1.]\n",
      "1 [0. 1. 0. 1. 1. 2. 2. 0. 0. 1. 0. 2. 0. 1. 2. 0. 2. 2. 2. 2. 0. 0. 0. 1.\n",
      " 1. 1. 2. 2. 1. 2. 0. 1. 2. 1. 1. 2. 2. 0. 1. 0. 1. 1. 2. 2. 1. 2. 0. 1.]\n",
      "2 [0. 1. 0. 1. 1. 2. 2. 0. 0. 1. 0. 2. 0. 1. 2. 0. 2. 2. 2. 2. 0. 0. 0. 1.\n",
      " 1. 1. 2. 2. 1. 2. 0. 1. 2. 1. 1. 2. 2. 0. 1. 0. 1. 1. 2. 2. 1. 2. 0. 1.]\n",
      "3 [0. 1. 0. 1. 1. 2. 2. 0. 0. 1. 0. 2. 0. 1. 2. 0. 2. 2. 2. 2. 0. 0. 0. 1.\n",
      " 1. 1. 2. 2. 1. 2. 0. 1. 2. 1. 1. 2. 2. 0. 1. 0. 1. 1. 2. 2. 1. 2. 0. 1.]\n",
      "4 [0. 1. 0. 1. 1. 2. 2. 0. 0. 1. 0. 2. 0. 1. 2. 0. 2. 2. 2. 2. 0. 0. 0. 1.\n",
      " 1. 1. 2. 2. 1. 2. 0. 1. 2. 1. 1. 2. 2. 0. 1. 0. 1. 1. 2. 2. 1. 2. 0. 1.]\n",
      "5 [0. 1. 0. 1. 1. 2. 2. 0. 0. 1. 0. 2. 0. 1. 2. 0. 2. 2. 2. 2. 0. 0. 0. 1.\n",
      " 1. 1. 2. 2. 1. 2. 0. 1. 2. 1. 1. 2. 2. 0. 1. 0. 1. 1. 2. 2. 1. 2. 0. 1.]\n",
      "6 [0. 1. 0. 1. 1. 2. 2. 0. 0. 1. 0. 2. 0. 1. 2. 0. 2. 2. 2. 2. 0. 0. 0. 1.\n",
      " 1. 1. 2. 2. 1. 2. 0. 1. 2. 1. 1. 2. 2. 0. 1. 0. 1. 1. 2. 2. 1. 2. 0. 1.]\n",
      "7 [0. 1. 0. 1. 1. 2. 2. 0. 0. 1. 0. 2. 0. 1. 2. 0. 2. 2. 2. 2. 0. 0. 0. 1.\n",
      " 1. 1. 2. 2. 1. 2. 0. 1. 2. 1. 1. 2. 2. 0. 1. 0. 1. 1. 2. 2. 1. 2. 0. 1.]\n",
      "8 [0. 1. 0. 1. 1. 2. 2. 0. 0. 1. 0. 2. 0. 1. 2. 0. 2. 2. 2. 2. 0. 0. 0. 1.\n",
      " 1. 1. 2. 2. 1. 2. 0. 1. 2. 1. 1. 2. 2. 0. 1. 0. 1. 1. 2. 2. 1. 2. 0. 1.]\n",
      "9 [0. 1. 0. 1. 1. 2. 2. 0. 0. 1. 0. 2. 0. 1. 2. 0. 2. 2. 2. 2. 0. 0. 0. 1.\n",
      " 1. 1. 2. 2. 1. 2. 0. 1. 2. 1. 1. 2. 2. 0. 1. 0. 1. 1. 2. 2. 1. 2. 0. 1.]\n"
     ]
    }
   ],
   "source": [
    "for i in range(10):\n",
    "    rn = lm_random.spillover(neighbors_on=True)\n",
    "    print(i,rn[\"components\"][:,13])"
   ]
  },
  {
   "cell_type": "code",
   "execution_count": 64,
   "metadata": {},
   "outputs": [],
   "source": [
    "rn = lm_random.spillover(neighbors_on=True)"
   ]
  },
  {
   "cell_type": "code",
   "execution_count": 66,
   "metadata": {},
   "outputs": [
    {
     "data": {
      "text/plain": [
       "array([0., 2., 0., 2., 0., 1., 1., 0., 0., 2., 0., 1., 0., 0., 1., 0., 1.,\n",
       "       1., 1., 1., 0., 0., 0., 2., 0., 2., 1., 1., 0., 1., 0., 0., 1., 0.,\n",
       "       2., 1., 1., 0., 0., 0., 0., 2., 1., 1., 2., 1., 0., 2.])"
      ]
     },
     "execution_count": 66,
     "metadata": {},
     "output_type": "execute_result"
    }
   ],
   "source": [
    "rn['components'][:,12]"
   ]
  },
  {
   "cell_type": "code",
   "execution_count": 67,
   "metadata": {},
   "outputs": [
    {
     "data": {
      "text/plain": [
       "array([0., 0., 0., 0., 1., 0., 0., 0., 0., 0., 0., 0., 0., 1., 0., 0., 0.,\n",
       "       0., 0., 0., 0., 0., 0., 0., 1., 0., 0., 0., 1., 0., 0., 1., 0., 1.,\n",
       "       0., 0., 0., 0., 1., 0., 1., 0., 0., 0., 0., 0., 0., 0.])"
      ]
     },
     "execution_count": 67,
     "metadata": {},
     "output_type": "execute_result"
    }
   ],
   "source": [
    "rn[\"spill_over\"][:,12]"
   ]
  },
  {
   "cell_type": "code",
   "execution_count": null,
   "metadata": {},
   "outputs": [],
   "source": []
  },
  {
   "cell_type": "code",
   "execution_count": 7,
   "metadata": {},
   "outputs": [
    {
     "data": {
      "text/plain": [
       "array([59, 43, 27])"
      ]
     },
     "execution_count": 7,
     "metadata": {},
     "output_type": "execute_result"
    }
   ],
   "source": [
    "lm_random.significant_moves[0,-3:]"
   ]
  },
  {
   "cell_type": "code",
   "execution_count": 107,
   "metadata": {},
   "outputs": [
    {
     "data": {
      "text/plain": [
       "{'components': array([[0., 0., 0., ..., 0., 0., 0.],\n",
       "        [0., 0., 0., ..., 0., 0., 0.],\n",
       "        [0., 0., 0., ..., 0., 0., 0.],\n",
       "        ...,\n",
       "        [1., 1., 1., ..., 1., 1., 0.],\n",
       "        [0., 0., 0., ..., 0., 0., 0.],\n",
       "        [0., 0., 0., ..., 0., 0., 0.]]),\n",
       " 'spill_over': array([[0., 0., 0., ..., 0., 0., 0.],\n",
       "        [0., 0., 0., ..., 0., 0., 0.],\n",
       "        [0., 0., 0., ..., 0., 0., 0.],\n",
       "        ...,\n",
       "        [0., 0., 0., ..., 0., 0., 0.],\n",
       "        [0., 0., 0., ..., 0., 0., 0.],\n",
       "        [0., 0., 0., ..., 0., 0., 0.]])}"
      ]
     },
     "execution_count": 107,
     "metadata": {},
     "output_type": "execute_result"
    }
   ],
   "source": [
    "r = lm_random.spillover()\n",
    "r"
   ]
  },
  {
   "cell_type": "code",
   "execution_count": 108,
   "metadata": {},
   "outputs": [
    {
     "data": {
      "text/plain": [
       "array([0., 2., 0., 2., 2., 1., 1., 0., 0., 2., 0., 1., 0., 2., 1., 0., 1.,\n",
       "       1., 1., 1., 0., 0., 0., 2., 2., 2., 1., 1., 2., 1., 0., 2., 1., 2.,\n",
       "       2., 1., 1., 0., 2., 0., 2., 2., 1., 1., 2., 1., 0., 2.])"
      ]
     },
     "execution_count": 108,
     "metadata": {},
     "output_type": "execute_result"
    }
   ],
   "source": [
    "rn = lm_random.spillover(neighbors_on=True)\n",
    "rn['components'][:,13]"
   ]
  },
  {
   "cell_type": "code",
   "execution_count": 109,
   "metadata": {},
   "outputs": [
    {
     "data": {
      "text/plain": [
       "array([0., 2., 0., 2., 0., 1., 1., 0., 0., 2., 0., 1., 0., 0., 1., 0., 1.,\n",
       "       1., 1., 1., 0., 0., 0., 2., 0., 2., 1., 1., 0., 1., 0., 0., 1., 0.,\n",
       "       2., 1., 1., 0., 0., 0., 0., 2., 1., 1., 2., 1., 0., 2.])"
      ]
     },
     "execution_count": 109,
     "metadata": {},
     "output_type": "execute_result"
    }
   ],
   "source": [
    "rn['components'][:,12]"
   ]
  },
  {
   "cell_type": "code",
   "execution_count": 95,
   "metadata": {},
   "outputs": [
    {
     "data": {
      "text/plain": [
       "{'components': array([[0., 0., 0., ..., 0., 0., 0.],\n",
       "        [0., 0., 0., ..., 0., 0., 0.],\n",
       "        [0., 0., 0., ..., 0., 0., 0.],\n",
       "        ...,\n",
       "        [1., 1., 1., ..., 1., 1., 0.],\n",
       "        [0., 0., 0., ..., 0., 0., 0.],\n",
       "        [0., 0., 0., ..., 0., 0., 0.]]),\n",
       " 'spill_over': array([[0., 0., 0., ..., 0., 0., 0.],\n",
       "        [0., 0., 0., ..., 0., 0., 0.],\n",
       "        [0., 0., 0., ..., 0., 0., 0.],\n",
       "        ...,\n",
       "        [0., 0., 0., ..., 0., 0., 0.],\n",
       "        [0., 0., 0., ..., 0., 0., 0.],\n",
       "        [0., 0., 0., ..., 0., 0., 0.]])}"
      ]
     },
     "execution_count": 95,
     "metadata": {},
     "output_type": "execute_result"
    }
   ],
   "source": [
    "r = lm_random.spillover()\n",
    "r"
   ]
  },
  {
   "cell_type": "code",
   "execution_count": 11,
   "metadata": {},
   "outputs": [
    {
     "data": {
      "text/plain": [
       "array([[0.25      , 0.5       , 0.25      ],\n",
       "       [0.33333333, 0.        , 0.66666667],\n",
       "       [0.33333333, 0.33333333, 0.33333333]])"
      ]
     },
     "execution_count": 11,
     "metadata": {},
     "output_type": "execute_result"
    }
   ],
   "source": [
    "m.p"
   ]
  },
  {
   "cell_type": "code",
   "execution_count": 26,
   "metadata": {},
   "outputs": [],
   "source": [
    "f = libpysal.open(libpysal.examples.get_path(\"usjoin.csv\"))\n",
    "pci = np.array([f.by_col[str(y)] for y in range(1929,2010)])"
   ]
  },
  {
   "cell_type": "code",
   "execution_count": 27,
   "metadata": {},
   "outputs": [
    {
     "data": {
      "text/plain": [
       "array([[707.,  58.,   7.,   1.,   0.],\n",
       "       [ 50., 629.,  80.,   1.,   1.],\n",
       "       [  4.,  79., 610.,  73.,   2.],\n",
       "       [  0.,   7.,  72., 650.,  37.],\n",
       "       [  0.,   0.,   0.,  48., 724.]])"
      ]
     },
     "execution_count": 27,
     "metadata": {},
     "output_type": "execute_result"
    }
   ],
   "source": [
    "pci = pci.transpose()\n",
    "rpci = pci/(pci.mean(axis=0))\n",
    "rq = mc.Quantiles(rpci.flatten()).yb.reshape(pci.shape)\n",
    "mq = Markov(rq)\n",
    "mq.transitions"
   ]
  },
  {
   "cell_type": "code",
   "execution_count": 5,
   "metadata": {},
   "outputs": [],
   "source": [
    "f = ps.open(ps.examples.get_path('usjoin.csv'))\n",
    "pci = np.array([f.by_col[str(y)] for y in range(1929, 2010)])\n",
    "pci = pci.transpose()\n",
    "rpci = pci / (pci.mean(axis=0))\n",
    "w = ps.open(ps.examples.get_path(\"states48.gal\")).read()\n",
    "w.transform = 'r'\n",
    "sm = Spatial_Markov(rpci, w, fixed=True, k=5, m=5)"
   ]
  },
  {
   "cell_type": "code",
   "execution_count": 6,
   "metadata": {},
   "outputs": [],
   "source": [
    "T = sm.T"
   ]
  },
  {
   "cell_type": "code",
   "execution_count": 7,
   "metadata": {},
   "outputs": [],
   "source": [
    "P = sm.P"
   ]
  },
  {
   "cell_type": "code",
   "execution_count": 8,
   "metadata": {},
   "outputs": [],
   "source": [
    "S=sm.S"
   ]
  },
  {
   "cell_type": "code",
   "execution_count": 9,
   "metadata": {},
   "outputs": [
    {
     "data": {
      "text/plain": [
       "array([0.17957376, 0.21631443, 0.21499942, 0.21134662, 0.17776576])"
      ]
     },
     "execution_count": 9,
     "metadata": {},
     "output_type": "execute_result"
    }
   ],
   "source": [
    "sm.s"
   ]
  },
  {
   "cell_type": "code",
   "execution_count": 10,
   "metadata": {},
   "outputs": [
    {
     "data": {
      "text/plain": [
       "0.0"
      ]
     },
     "execution_count": 10,
     "metadata": {},
     "output_type": "execute_result"
    }
   ],
   "source": [
    "from scipy import stats\n",
    "p1 = sm.s\n",
    "p2 = S[0]\n",
    "nt = T[0].sum()\n",
    "o = nt * p2\n",
    "e = nt * p1\n",
    "d = np.multiply((o - e), (o - e))\n",
    "d = d / e\n",
    "chi2 = d.sum()\n",
    "pvalue = 1 - stats.chi2.cdf(chi2, sm.k - 1)\n",
    "pvalue"
   ]
  },
  {
   "cell_type": "code",
   "execution_count": 11,
   "metadata": {},
   "outputs": [
    {
     "data": {
      "text/plain": [
       "[(461.2096128961479, 0.0, 4),\n",
       " (148.14069416285804, 0.0, 4),\n",
       " (63.31292613505512, 5.830891325331322e-13, 4),\n",
       " (72.27785087142436, 7.549516567451064e-15, 4),\n",
       " (232.65920072912445, 0.0, 4)]"
      ]
     },
     "execution_count": 11,
     "metadata": {},
     "output_type": "execute_result"
    }
   ],
   "source": [
    "sm.shtest"
   ]
  },
  {
   "cell_type": "code",
   "execution_count": 119,
   "metadata": {},
   "outputs": [
    {
     "data": {
      "text/plain": [
       "461.2096128961479"
      ]
     },
     "execution_count": 119,
     "metadata": {},
     "output_type": "execute_result"
    }
   ],
   "source": [
    "chi2"
   ]
  },
  {
   "cell_type": "code",
   "execution_count": null,
   "metadata": {},
   "outputs": [],
   "source": []
  },
  {
   "cell_type": "code",
   "execution_count": 50,
   "metadata": {},
   "outputs": [],
   "source": [
    "chi = np.array([[4.05598541e+01, 6.44644317e-04, 1.60000000e+01],\n",
    "                         [5.54751974e+01, 2.97033748e-06, 1.60000000e+01],\n",
    "                         [1.77528996e+01, 3.38563882e-01, 1.60000000e+01],\n",
    "                         [4.00390961e+01, 7.68422046e-04, 1.60000000e+01],\n",
    "                         [4.67966803e+01, 7.32512065e-05,\n",
    "                          1.60000000e+01]])"
   ]
  },
  {
   "cell_type": "code",
   "execution_count": 52,
   "metadata": {},
   "outputs": [
    {
     "data": {
      "text/plain": [
       "[(40.559854126076374, 0.0006446443167027471, 16),\n",
       " (55.47519738487663, 2.9703374792022785e-06, 16),\n",
       " (17.752899623367387, 0.3385638819692558, 16),\n",
       " (40.03909614771082, 0.0007684220464208025, 16),\n",
       " (46.796680348736864, 7.325120646395344e-05, 16)]"
      ]
     },
     "execution_count": 52,
     "metadata": {},
     "output_type": "execute_result"
    }
   ],
   "source": [
    "sm.chi2"
   ]
  },
  {
   "cell_type": "code",
   "execution_count": 47,
   "metadata": {},
   "outputs": [
    {
     "data": {
      "text/plain": [
       "array([0.20774716, 0.18725774, 0.20740537, 0.18821787, 0.20937187])"
      ]
     },
     "execution_count": 47,
     "metadata": {},
     "output_type": "execute_result"
    }
   ],
   "source": [
    "m.steady_state"
   ]
  },
  {
   "cell_type": "code",
   "execution_count": 43,
   "metadata": {},
   "outputs": [],
   "source": [
    "expected = np.array([[729., 71., 1., 0., 0.],\n",
    "                             [72., 567., 80., 3., 0.],\n",
    "                             [0., 81., 631., 86., 2.],\n",
    "                             [0., 3., 86., 573., 56.],\n",
    "                             [0., 0., 1., 57., 741.]])"
   ]
  },
  {
   "cell_type": "code",
   "execution_count": 44,
   "metadata": {},
   "outputs": [],
   "source": [
    "np.testing.assert_array_equal(m.transitions, expected)"
   ]
  },
  {
   "cell_type": "code",
   "execution_count": 46,
   "metadata": {},
   "outputs": [
    {
     "ename": "AttributeError",
     "evalue": "'numpy.ndarray' object has no attribute 'getA'",
     "output_type": "error",
     "traceback": [
      "\u001b[0;31m---------------------------------------------------------------------------\u001b[0m",
      "\u001b[0;31mAttributeError\u001b[0m                            Traceback (most recent call last)",
      "\u001b[0;32m<ipython-input-46-aec1e3666ef9>\u001b[0m in \u001b[0;36m<module>\u001b[0;34m()\u001b[0m\n\u001b[0;32m----> 1\u001b[0;31m \u001b[0mexpected\u001b[0m\u001b[0;34m.\u001b[0m\u001b[0mgetA\u001b[0m\u001b[0;34m(\u001b[0m\u001b[0;34m)\u001b[0m\u001b[0;34m\u001b[0m\u001b[0m\n\u001b[0m",
      "\u001b[0;31mAttributeError\u001b[0m: 'numpy.ndarray' object has no attribute 'getA'"
     ]
    }
   ],
   "source": [
    "expected.getA()"
   ]
  },
  {
   "cell_type": "code",
   "execution_count": null,
   "metadata": {},
   "outputs": [],
   "source": []
  },
  {
   "cell_type": "code",
   "execution_count": 29,
   "metadata": {},
   "outputs": [],
   "source": [
    "rpci = pci/(pci.mean(axis=0))\n",
    "w = libpysal.open(libpysal.examples.get_path(\"states48.gal\")).read()\n",
    "w.transform = 'r'"
   ]
  },
  {
   "cell_type": "code",
   "execution_count": 34,
   "metadata": {},
   "outputs": [],
   "source": [
    "w = libpysal.open(libpysal.examples.get_path(\"states48.gal\")).read()"
   ]
  },
  {
   "cell_type": "code",
   "execution_count": 53,
   "metadata": {},
   "outputs": [],
   "source": [
    "lm = LISA_Markov(pci,w)"
   ]
  },
  {
   "cell_type": "code",
   "execution_count": 54,
   "metadata": {},
   "outputs": [
    {
     "data": {
      "text/plain": [
       "array([1, 2, 3, 4])"
      ]
     },
     "execution_count": 54,
     "metadata": {},
     "output_type": "execute_result"
    }
   ],
   "source": [
    "lm.classes"
   ]
  },
  {
   "cell_type": "code",
   "execution_count": 55,
   "metadata": {},
   "outputs": [
    {
     "data": {
      "text/plain": [
       "array([0.28561505, 0.14190226, 0.40493672, 0.16754598])"
      ]
     },
     "execution_count": 55,
     "metadata": {},
     "output_type": "execute_result"
    }
   ],
   "source": [
    "lm.steady_state"
   ]
  },
  {
   "cell_type": "code",
   "execution_count": 60,
   "metadata": {},
   "outputs": [],
   "source": [
    "f = ps.open(ps.examples.get_path('usjoin.csv'))\n",
    "pci = np.array([f.by_col[str(y)] for y in range(1929, 2010)])\n",
    "q5 = np.array([mc.Quantiles(y).yb for y in pci]).transpose()\n",
    "m = Markov(q5)"
   ]
  },
  {
   "cell_type": "code",
   "execution_count": null,
   "metadata": {},
   "outputs": [],
   "source": []
  },
  {
   "cell_type": "code",
   "execution_count": 62,
   "metadata": {},
   "outputs": [
    {
     "data": {
      "text/plain": [
       "array([[0.91011236, 0.0886392 , 0.00124844, 0.        , 0.        ],\n",
       "       [0.09972299, 0.78531856, 0.11080332, 0.00415512, 0.        ],\n",
       "       [0.        , 0.10125   , 0.78875   , 0.1075    , 0.0025    ],\n",
       "       [0.        , 0.00417827, 0.11977716, 0.79805014, 0.07799443],\n",
       "       [0.        , 0.        , 0.00125156, 0.07133917, 0.92740926]])"
      ]
     },
     "execution_count": 62,
     "metadata": {},
     "output_type": "execute_result"
    }
   ],
   "source": [
    "m.p"
   ]
  },
  {
   "cell_type": "code",
   "execution_count": 61,
   "metadata": {},
   "outputs": [
    {
     "data": {
      "text/plain": [
       "0.0898876404494382"
      ]
     },
     "execution_count": 61,
     "metadata": {},
     "output_type": "execute_result"
    }
   ],
   "source": [
    "prais(m.p)"
   ]
  },
  {
   "cell_type": "code",
   "execution_count": 71,
   "metadata": {},
   "outputs": [
    {
     "data": {
      "text/plain": [
       "matrix([[1.],\n",
       "        [1.],\n",
       "        [1.],\n",
       "        [1.],\n",
       "        [1.]])"
      ]
     },
     "execution_count": 71,
     "metadata": {},
     "output_type": "execute_result"
    }
   ],
   "source": [
    "pmat = np.matrix(m.p)\n",
    "pmat.sum(axis=1)"
   ]
  },
  {
   "cell_type": "code",
   "execution_count": 78,
   "metadata": {},
   "outputs": [],
   "source": [
    "w.transform = 'b'"
   ]
  },
  {
   "cell_type": "code",
   "execution_count": 81,
   "metadata": {},
   "outputs": [
    {
     "data": {
      "text/plain": [
       "array([[[0.96703297, 0.03296703, 0.        , 0.        , 0.        ],\n",
       "        [0.10638298, 0.68085106, 0.21276596, 0.        , 0.        ],\n",
       "        [0.        , 0.14285714, 0.7755102 , 0.08163265, 0.        ],\n",
       "        [0.        , 0.        , 0.5       , 0.5       , 0.        ],\n",
       "        [0.        , 0.        , 0.        , 0.        , 0.        ]],\n",
       "\n",
       "       [[0.88636364, 0.10606061, 0.00757576, 0.        , 0.        ],\n",
       "        [0.04402516, 0.89308176, 0.06289308, 0.        , 0.        ],\n",
       "        [0.        , 0.05882353, 0.8627451 , 0.07843137, 0.        ],\n",
       "        [0.        , 0.        , 0.13846154, 0.86153846, 0.        ],\n",
       "        [0.        , 0.        , 0.        , 0.        , 1.        ]],\n",
       "\n",
       "       [[0.78082192, 0.17808219, 0.02739726, 0.01369863, 0.        ],\n",
       "        [0.03488372, 0.90406977, 0.05813953, 0.00290698, 0.        ],\n",
       "        [0.        , 0.05919003, 0.84735202, 0.09034268, 0.00311526],\n",
       "        [0.        , 0.        , 0.05811623, 0.92985972, 0.01202405],\n",
       "        [0.        , 0.        , 0.        , 0.14285714, 0.85714286]],\n",
       "\n",
       "       [[0.82692308, 0.15384615, 0.        , 0.01923077, 0.        ],\n",
       "        [0.0703125 , 0.7890625 , 0.125     , 0.015625  , 0.        ],\n",
       "        [0.00295858, 0.06213018, 0.82248521, 0.10946746, 0.00295858],\n",
       "        [0.        , 0.00185529, 0.07606679, 0.88497217, 0.03710575],\n",
       "        [0.        , 0.        , 0.        , 0.07803468, 0.92196532]],\n",
       "\n",
       "       [[0.        , 0.        , 0.        , 0.        , 0.        ],\n",
       "        [0.        , 0.        , 0.        , 0.        , 0.        ],\n",
       "        [0.        , 0.06666667, 0.9       , 0.03333333, 0.        ],\n",
       "        [0.        , 0.        , 0.05660377, 0.90566038, 0.03773585],\n",
       "        [0.        , 0.        , 0.        , 0.03932584, 0.96067416]]])"
      ]
     },
     "execution_count": 81,
     "metadata": {},
     "output_type": "execute_result"
    }
   ],
   "source": [
    "f = libpysal.open(libpysal.examples.get_path(\"usjoin.csv\"))\n",
    "pci = np.array([f.by_col[str(y)] for y in range(1929,2010)])\n",
    "pci = pci.transpose()\n",
    "rpci = pci/(pci.mean(axis=0))\n",
    "w = libpysal.open(libpysal.examples.get_path(\"states48.gal\")).read()\n",
    "w.transform = 'r'\n",
    "cc = np.array([0.8, 0.9, 1, 1.2])\n",
    "sm = Spatial_Markov(rpci, w, cutoffs=cc, lag_cutoffs=cc, variable_name='rpci')\n",
    "sm.P"
   ]
  },
  {
   "cell_type": "code",
   "execution_count": 83,
   "metadata": {},
   "outputs": [
    {
     "data": {
      "text/plain": [
       "array([[0, 0, 0, ..., 1, 1, 1],\n",
       "       [2, 2, 1, ..., 1, 1, 1],\n",
       "       [0, 0, 0, ..., 0, 0, 1],\n",
       "       ...,\n",
       "       [0, 0, 0, ..., 0, 0, 1],\n",
       "       [3, 3, 2, ..., 2, 2, 2],\n",
       "       [3, 3, 3, ..., 4, 4, 3]])"
      ]
     },
     "execution_count": 83,
     "metadata": {},
     "output_type": "execute_result"
    }
   ],
   "source": [
    "y = mc.Quantiles(rpci.flatten(), k=5).yb.reshape(rpci.shape)\n",
    "y"
   ]
  },
  {
   "cell_type": "code",
   "execution_count": 90,
   "metadata": {},
   "outputs": [
    {
     "name": "stdout",
     "output_type": "stream",
     "text": [
      "[[0.94787645 0.04440154 0.00772201 0.         0.        ]\n",
      " [0.08333333 0.81060606 0.10606061 0.         0.        ]\n",
      " [0.         0.12765957 0.79787234 0.07446809 0.        ]\n",
      " [0.         0.02777778 0.22222222 0.66666667 0.08333333]\n",
      " [0.         0.         0.         0.33333333 0.66666667]]\n",
      "[[0.888      0.096      0.016      0.         0.        ]\n",
      " [0.06049822 0.84341637 0.09608541 0.         0.        ]\n",
      " [0.00666667 0.10666667 0.81333333 0.07333333 0.        ]\n",
      " [0.         0.         0.08527132 0.86821705 0.04651163]\n",
      " [0.         0.         0.         0.10204082 0.89795918]]\n",
      "[[0.65217391 0.32608696 0.02173913 0.         0.        ]\n",
      " [0.07446809 0.80851064 0.11170213 0.         0.00531915]\n",
      " [0.01071429 0.1        0.76428571 0.11785714 0.00714286]\n",
      " [0.         0.00552486 0.09392265 0.86187845 0.03867403]\n",
      " [0.         0.         0.         0.13157895 0.86842105]]\n",
      "[[0.91935484 0.06451613 0.         0.01612903 0.        ]\n",
      " [0.06796117 0.90291262 0.02912621 0.         0.        ]\n",
      " [0.         0.05755396 0.87769784 0.0647482  0.        ]\n",
      " [0.         0.02150538 0.10752688 0.80107527 0.06989247]\n",
      " [0.         0.         0.         0.08064516 0.91935484]]\n",
      "[[0.81818182 0.18181818 0.         0.         0.        ]\n",
      " [0.01754386 0.70175439 0.26315789 0.01754386 0.        ]\n",
      " [0.         0.14285714 0.73333333 0.12380952 0.        ]\n",
      " [0.         0.0042735  0.06837607 0.89316239 0.03418803]\n",
      " [0.         0.         0.         0.03891051 0.96108949]]\n"
     ]
    }
   ],
   "source": [
    "for p in sm.P:\n",
    "    print(p)"
   ]
  },
  {
   "cell_type": "code",
   "execution_count": 88,
   "metadata": {},
   "outputs": [
    {
     "data": {
      "text/plain": [
       "array([[[0.94787645, 0.04440154, 0.00772201, 0.        , 0.        ],\n",
       "        [0.08333333, 0.81060606, 0.10606061, 0.        , 0.        ],\n",
       "        [0.        , 0.12765957, 0.79787234, 0.07446809, 0.        ],\n",
       "        [0.        , 0.02777778, 0.22222222, 0.66666667, 0.08333333],\n",
       "        [0.        , 0.        , 0.        , 0.33333333, 0.66666667]],\n",
       "\n",
       "       [[0.888     , 0.096     , 0.016     , 0.        , 0.        ],\n",
       "        [0.06049822, 0.84341637, 0.09608541, 0.        , 0.        ],\n",
       "        [0.00666667, 0.10666667, 0.81333333, 0.07333333, 0.        ],\n",
       "        [0.        , 0.        , 0.08527132, 0.86821705, 0.04651163],\n",
       "        [0.        , 0.        , 0.        , 0.10204082, 0.89795918]],\n",
       "\n",
       "       [[0.65217391, 0.32608696, 0.02173913, 0.        , 0.        ],\n",
       "        [0.07446809, 0.80851064, 0.11170213, 0.        , 0.00531915],\n",
       "        [0.01071429, 0.1       , 0.76428571, 0.11785714, 0.00714286],\n",
       "        [0.        , 0.00552486, 0.09392265, 0.86187845, 0.03867403],\n",
       "        [0.        , 0.        , 0.        , 0.13157895, 0.86842105]],\n",
       "\n",
       "       [[0.91935484, 0.06451613, 0.        , 0.01612903, 0.        ],\n",
       "        [0.06796117, 0.90291262, 0.02912621, 0.        , 0.        ],\n",
       "        [0.        , 0.05755396, 0.87769784, 0.0647482 , 0.        ],\n",
       "        [0.        , 0.02150538, 0.10752688, 0.80107527, 0.06989247],\n",
       "        [0.        , 0.        , 0.        , 0.08064516, 0.91935484]],\n",
       "\n",
       "       [[0.81818182, 0.18181818, 0.        , 0.        , 0.        ],\n",
       "        [0.01754386, 0.70175439, 0.26315789, 0.01754386, 0.        ],\n",
       "        [0.        , 0.14285714, 0.73333333, 0.12380952, 0.        ],\n",
       "        [0.        , 0.0042735 , 0.06837607, 0.89316239, 0.03418803],\n",
       "        [0.        , 0.        , 0.        , 0.03891051, 0.96108949]]])"
      ]
     },
     "execution_count": 88,
     "metadata": {},
     "output_type": "execute_result"
    }
   ],
   "source": [
    "w.transform = 'b'\n",
    "np.random.seed(5)\n",
    "sm = Spatial_Markov(y, w, discrete=True, variable_name='discretized rpci')\n",
    "sm.P"
   ]
  },
  {
   "cell_type": "code",
   "execution_count": 89,
   "metadata": {},
   "outputs": [
    {
     "data": {
      "text/plain": [
       "array([[[0.94787645, 0.04440154, 0.00772201, 0.        , 0.        ],\n",
       "        [0.08333333, 0.81060606, 0.10606061, 0.        , 0.        ],\n",
       "        [0.        , 0.12765957, 0.79787234, 0.07446809, 0.        ],\n",
       "        [0.        , 0.02777778, 0.22222222, 0.66666667, 0.08333333],\n",
       "        [0.        , 0.        , 0.        , 0.33333333, 0.66666667]],\n",
       "\n",
       "       [[0.888     , 0.096     , 0.016     , 0.        , 0.        ],\n",
       "        [0.06049822, 0.84341637, 0.09608541, 0.        , 0.        ],\n",
       "        [0.00666667, 0.10666667, 0.81333333, 0.07333333, 0.        ],\n",
       "        [0.        , 0.        , 0.08527132, 0.86821705, 0.04651163],\n",
       "        [0.        , 0.        , 0.        , 0.10204082, 0.89795918]],\n",
       "\n",
       "       [[0.65217391, 0.32608696, 0.02173913, 0.        , 0.        ],\n",
       "        [0.07446809, 0.80851064, 0.11170213, 0.        , 0.00531915],\n",
       "        [0.01071429, 0.1       , 0.76428571, 0.11785714, 0.00714286],\n",
       "        [0.        , 0.00552486, 0.09392265, 0.86187845, 0.03867403],\n",
       "        [0.        , 0.        , 0.        , 0.13157895, 0.86842105]],\n",
       "\n",
       "       [[0.91935484, 0.06451613, 0.        , 0.01612903, 0.        ],\n",
       "        [0.06796117, 0.90291262, 0.02912621, 0.        , 0.        ],\n",
       "        [0.        , 0.05755396, 0.87769784, 0.0647482 , 0.        ],\n",
       "        [0.        , 0.02150538, 0.10752688, 0.80107527, 0.06989247],\n",
       "        [0.        , 0.        , 0.        , 0.08064516, 0.91935484]],\n",
       "\n",
       "       [[0.81818182, 0.18181818, 0.        , 0.        , 0.        ],\n",
       "        [0.01754386, 0.70175439, 0.26315789, 0.01754386, 0.        ],\n",
       "        [0.        , 0.14285714, 0.73333333, 0.12380952, 0.        ],\n",
       "        [0.        , 0.0042735 , 0.06837607, 0.89316239, 0.03418803],\n",
       "        [0.        , 0.        , 0.        , 0.03891051, 0.96108949]]])"
      ]
     },
     "execution_count": 89,
     "metadata": {},
     "output_type": "execute_result"
    }
   ],
   "source": [
    "w.transform = 'r'\n",
    "np.random.seed(5)\n",
    "sm = Spatial_Markov(y, w, discrete=True, variable_name='discretized rpci')\n",
    "sm.P"
   ]
  },
  {
   "cell_type": "code",
   "execution_count": null,
   "metadata": {},
   "outputs": [],
   "source": []
  },
  {
   "cell_type": "code",
   "execution_count": 74,
   "metadata": {},
   "outputs": [
    {
     "data": {
      "text/plain": [
       "array([0.08988764, 0.21468144, 0.21125   , 0.20194986, 0.07259074])"
      ]
     },
     "execution_count": 74,
     "metadata": {},
     "output_type": "execute_result"
    }
   ],
   "source": [
    "1- np.diag(pmat)"
   ]
  },
  {
   "cell_type": "code",
   "execution_count": 73,
   "metadata": {},
   "outputs": [
    {
     "data": {
      "text/plain": [
       "matrix([[0.08988764, 0.21468144, 0.21125   , 0.20194986, 0.07259074],\n",
       "        [0.08988764, 0.21468144, 0.21125   , 0.20194986, 0.07259074],\n",
       "        [0.08988764, 0.21468144, 0.21125   , 0.20194986, 0.07259074],\n",
       "        [0.08988764, 0.21468144, 0.21125   , 0.20194986, 0.07259074],\n",
       "        [0.08988764, 0.21468144, 0.21125   , 0.20194986, 0.07259074]])"
      ]
     },
     "execution_count": 73,
     "metadata": {},
     "output_type": "execute_result"
    }
   ],
   "source": [
    "pmat.sum(axis=1) - np.diag(pmat)"
   ]
  },
  {
   "cell_type": "code",
   "execution_count": 70,
   "metadata": {},
   "outputs": [
    {
     "data": {
      "text/plain": [
       "array([1., 1., 1., 1., 1.])"
      ]
     },
     "execution_count": 70,
     "metadata": {},
     "output_type": "execute_result"
    }
   ],
   "source": [
    "pmat = m.p\n",
    "pmat.sum(axis=1)"
   ]
  },
  {
   "cell_type": "code",
   "execution_count": 66,
   "metadata": {},
   "outputs": [
    {
     "data": {
      "text/plain": [
       "array([0.91011236, 0.78531856, 0.78875   , 0.79805014, 0.92740926])"
      ]
     },
     "execution_count": 66,
     "metadata": {},
     "output_type": "execute_result"
    }
   ],
   "source": [
    "np.diag(pmat)"
   ]
  },
  {
   "cell_type": "code",
   "execution_count": null,
   "metadata": {},
   "outputs": [],
   "source": []
  },
  {
   "cell_type": "code",
   "execution_count": 39,
   "metadata": {},
   "outputs": [
    {
     "data": {
      "text/plain": [
       "array([[0.92985458, 0.03763901, 0.00342173, 0.02908469],\n",
       "       [0.07481752, 0.85766423, 0.06569343, 0.00182482],\n",
       "       [0.00333333, 0.02266667, 0.948     , 0.026     ],\n",
       "       [0.04815409, 0.00160514, 0.06420546, 0.88603531]])"
      ]
     },
     "execution_count": 39,
     "metadata": {},
     "output_type": "execute_result"
    }
   ],
   "source": [
    "lm.p"
   ]
  },
  {
   "cell_type": "code",
   "execution_count": 30,
   "metadata": {},
   "outputs": [],
   "source": [
    "sm = Spatial_Markov(rpci, w, fixed=True, k=5, m=5, variable_name='rpci')"
   ]
  },
  {
   "cell_type": "code",
   "execution_count": 31,
   "metadata": {},
   "outputs": [
    {
     "data": {
      "text/plain": [
       "array([0.83999133, 0.94707545, 1.03242697, 1.14911154])"
      ]
     },
     "execution_count": 31,
     "metadata": {},
     "output_type": "execute_result"
    }
   ],
   "source": [
    "sm.cutoffs"
   ]
  },
  {
   "cell_type": "code",
   "execution_count": 32,
   "metadata": {},
   "outputs": [
    {
     "data": {
      "text/plain": [
       "array([0.88973386, 0.95891917, 1.01469758, 1.1183566 ])"
      ]
     },
     "execution_count": 32,
     "metadata": {},
     "output_type": "execute_result"
    }
   ],
   "source": [
    "sm.lag_cutoffs"
   ]
  },
  {
   "cell_type": "code",
   "execution_count": null,
   "metadata": {},
   "outputs": [],
   "source": []
  },
  {
   "cell_type": "code",
   "execution_count": 28,
   "metadata": {},
   "outputs": [
    {
     "data": {
      "text/plain": [
       "array([0.17957376, 0.21631443, 0.21499942, 0.21134662, 0.17776576])"
      ]
     },
     "execution_count": 28,
     "metadata": {},
     "output_type": "execute_result"
    }
   ],
   "source": [
    "mq.steady_state"
   ]
  },
  {
   "cell_type": "code",
   "execution_count": 2,
   "metadata": {},
   "outputs": [
    {
     "data": {
      "text/plain": [
       "array([0.4, 0.2, 0.4])"
      ]
     },
     "execution_count": 2,
     "metadata": {},
     "output_type": "execute_result"
    }
   ],
   "source": [
    "from giddy.api import steady_state,fmpt,var_fmpt\n",
    "p=np.array([[.5, .25, .25],[.5,0,.5],[.25,.25,.5]])\n",
    "steady_state(p)"
   ]
  },
  {
   "cell_type": "code",
   "execution_count": 3,
   "metadata": {},
   "outputs": [
    {
     "data": {
      "text/plain": [
       "array([[ 5.58333333, 12.        ,  6.88888889],\n",
       "       [ 6.22222222, 12.        ,  6.22222222],\n",
       "       [ 6.88888889, 12.        ,  5.58333333]])"
      ]
     },
     "execution_count": 3,
     "metadata": {},
     "output_type": "execute_result"
    }
   ],
   "source": [
    "var_fmpt(p)"
   ]
  },
  {
   "cell_type": "code",
   "execution_count": 7,
   "metadata": {},
   "outputs": [
    {
     "data": {
      "text/plain": [
       "array([0.4, 0.2, 0.4])"
      ]
     },
     "execution_count": 7,
     "metadata": {},
     "output_type": "execute_result"
    }
   ],
   "source": [
    "np.array([0.4, 0.2, 0.4])"
   ]
  },
  {
   "cell_type": "code",
   "execution_count": 10,
   "metadata": {},
   "outputs": [
    {
     "data": {
      "text/plain": [
       "matrix([[2.5       , 4.        , 3.33333333],\n",
       "        [2.66666667, 5.        , 2.66666667],\n",
       "        [3.33333333, 4.        , 2.5       ]])"
      ]
     },
     "execution_count": 10,
     "metadata": {},
     "output_type": "execute_result"
    }
   ],
   "source": [
    "P=p\n",
    "P = np.matrix(P)\n",
    "A = np.zeros_like(P)\n",
    "ss = steady_state(P).reshape(3,1)\n",
    "k = ss.shape[0]\n",
    "for i in range(k):\n",
    "    A[:, i] = ss\n",
    "A = A.transpose()\n",
    "I = np.identity(k)\n",
    "Z = la.inv(I - P + A)\n",
    "E = np.ones_like(Z)\n",
    "A_diag = np.diag(A)\n",
    "A_diag = A_diag + (A_diag==0)\n",
    "D = np.diag(1. / A_diag)\n",
    "Zdg = np.diag(np.diag(Z))\n",
    "M = (I - Z + E * Zdg) * D\n",
    "M"
   ]
  },
  {
   "cell_type": "code",
   "execution_count": 4,
   "metadata": {},
   "outputs": [
    {
     "ename": "ValueError",
     "evalue": "could not broadcast input array from shape (3,1) into shape (3)",
     "output_type": "error",
     "traceback": [
      "\u001b[0;31m---------------------------------------------------------------------------\u001b[0m",
      "\u001b[0;31mValueError\u001b[0m                                Traceback (most recent call last)",
      "\u001b[0;32m<ipython-input-4-fadc71b38f57>\u001b[0m in \u001b[0;36m<module>\u001b[0;34m()\u001b[0m\n\u001b[0;32m----> 1\u001b[0;31m \u001b[0mfmpt\u001b[0m\u001b[0;34m(\u001b[0m\u001b[0mp\u001b[0m\u001b[0;34m)\u001b[0m\u001b[0;34m\u001b[0m\u001b[0m\n\u001b[0m",
      "\u001b[0;32m~/Google Drive (weikang@ucr.edu)/python_repos/pysal-refactor/giddy/giddy/ergodic.py\u001b[0m in \u001b[0;36mfmpt\u001b[0;34m(P)\u001b[0m\n\u001b[1;32m    104\u001b[0m     \u001b[0mk\u001b[0m \u001b[0;34m=\u001b[0m \u001b[0mss\u001b[0m\u001b[0;34m.\u001b[0m\u001b[0mshape\u001b[0m\u001b[0;34m[\u001b[0m\u001b[0;36m0\u001b[0m\u001b[0;34m]\u001b[0m\u001b[0;34m\u001b[0m\u001b[0m\n\u001b[1;32m    105\u001b[0m     \u001b[0;32mfor\u001b[0m \u001b[0mi\u001b[0m \u001b[0;32min\u001b[0m \u001b[0mrange\u001b[0m\u001b[0;34m(\u001b[0m\u001b[0mk\u001b[0m\u001b[0;34m)\u001b[0m\u001b[0;34m:\u001b[0m\u001b[0;34m\u001b[0m\u001b[0m\n\u001b[0;32m--> 106\u001b[0;31m         \u001b[0mA\u001b[0m\u001b[0;34m[\u001b[0m\u001b[0;34m:\u001b[0m\u001b[0;34m,\u001b[0m \u001b[0mi\u001b[0m\u001b[0;34m]\u001b[0m \u001b[0;34m=\u001b[0m \u001b[0mss\u001b[0m\u001b[0;34m\u001b[0m\u001b[0m\n\u001b[0m\u001b[1;32m    107\u001b[0m     \u001b[0mA\u001b[0m \u001b[0;34m=\u001b[0m \u001b[0mA\u001b[0m\u001b[0;34m.\u001b[0m\u001b[0mtranspose\u001b[0m\u001b[0;34m(\u001b[0m\u001b[0;34m)\u001b[0m\u001b[0;34m\u001b[0m\u001b[0m\n\u001b[1;32m    108\u001b[0m     \u001b[0mI\u001b[0m \u001b[0;34m=\u001b[0m \u001b[0mnp\u001b[0m\u001b[0;34m.\u001b[0m\u001b[0midentity\u001b[0m\u001b[0;34m(\u001b[0m\u001b[0mk\u001b[0m\u001b[0;34m)\u001b[0m\u001b[0;34m\u001b[0m\u001b[0m\n",
      "\u001b[0;31mValueError\u001b[0m: could not broadcast input array from shape (3,1) into shape (3)"
     ]
    }
   ],
   "source": [
    "fmpt(p)"
   ]
  },
  {
   "cell_type": "code",
   "execution_count": 66,
   "metadata": {},
   "outputs": [
    {
     "data": {
      "text/plain": [
       "matrix([[0.5 , 0.25, 0.25],\n",
       "        [0.5 , 0.  , 0.5 ],\n",
       "        [0.25, 0.25, 0.5 ]])"
      ]
     },
     "execution_count": 66,
     "metadata": {},
     "output_type": "execute_result"
    }
   ],
   "source": [
    "p"
   ]
  },
  {
   "cell_type": "code",
   "execution_count": 67,
   "metadata": {},
   "outputs": [
    {
     "data": {
      "text/plain": [
       "matrix([[ 5.58333333, 12.        ,  6.88888889],\n",
       "        [ 6.22222222, 12.        ,  6.22222222],\n",
       "        [ 6.88888889, 12.        ,  5.58333333]])"
      ]
     },
     "execution_count": 67,
     "metadata": {},
     "output_type": "execute_result"
    }
   ],
   "source": [
    "P=np.matrix(p)\n",
    "A = P ** 1000\n",
    "n, k = A.shape\n",
    "I = np.identity(k)\n",
    "Z = la.inv(I - P + A)\n",
    "E = np.ones_like(Z)\n",
    "D = np.diag(1. / np.diag(A))\n",
    "Zdg = np.diag(np.diag(Z))\n",
    "M = (I - Z + E * Zdg) * D\n",
    "ZM = Z * M\n",
    "ZMdg = np.diag(np.diag(ZM))\n",
    "W = M * (2 * Zdg * D - I) + 2 * (ZM - E * ZMdg)\n",
    "W - np.multiply(M, M)"
   ]
  },
  {
   "cell_type": "code",
   "execution_count": null,
   "metadata": {},
   "outputs": [],
   "source": []
  },
  {
   "cell_type": "code",
   "execution_count": 65,
   "metadata": {},
   "outputs": [
    {
     "data": {
      "text/plain": [
       "matrix([[11.83333333, 28.        , 18.        ],\n",
       "        [13.33333333, 37.        , 13.33333333],\n",
       "        [18.        , 28.        , 11.83333333]])"
      ]
     },
     "execution_count": 65,
     "metadata": {},
     "output_type": "execute_result"
    }
   ],
   "source": [
    "W"
   ]
  },
  {
   "cell_type": "code",
   "execution_count": 60,
   "metadata": {},
   "outputs": [
    {
     "data": {
      "text/plain": [
       "matrix([[0.4, 0.2, 0.4],\n",
       "        [0.4, 0.2, 0.4],\n",
       "        [0.4, 0.2, 0.4]])"
      ]
     },
     "execution_count": 60,
     "metadata": {},
     "output_type": "execute_result"
    }
   ],
   "source": [
    "P ** 1000"
   ]
  },
  {
   "cell_type": "code",
   "execution_count": 61,
   "metadata": {},
   "outputs": [
    {
     "data": {
      "text/plain": [
       "matrix([[0.5 , 0.25, 0.25],\n",
       "        [0.5 , 0.  , 0.5 ],\n",
       "        [0.25, 0.25, 0.5 ]])"
      ]
     },
     "execution_count": 61,
     "metadata": {},
     "output_type": "execute_result"
    }
   ],
   "source": [
    "p"
   ]
  },
  {
   "cell_type": "code",
   "execution_count": 59,
   "metadata": {},
   "outputs": [
    {
     "data": {
      "text/plain": [
       "matrix([[0.4, 0.2, 0.4],\n",
       "        [0.4, 0.2, 0.4],\n",
       "        [0.4, 0.2, 0.4]])"
      ]
     },
     "execution_count": 59,
     "metadata": {},
     "output_type": "execute_result"
    }
   ],
   "source": [
    "A"
   ]
  },
  {
   "cell_type": "code",
   "execution_count": 52,
   "metadata": {},
   "outputs": [
    {
     "data": {
      "text/plain": [
       "matrix([[11.83333333, 28.        , 18.        ],\n",
       "        [13.33333333, 37.        , 13.33333333],\n",
       "        [18.        , 28.        , 11.83333333]])"
      ]
     },
     "execution_count": 52,
     "metadata": {},
     "output_type": "execute_result"
    }
   ],
   "source": [
    "W"
   ]
  },
  {
   "cell_type": "code",
   "execution_count": 26,
   "metadata": {},
   "outputs": [
    {
     "data": {
      "text/plain": [
       "array([[ 2.5, -0. ,  0. ],\n",
       "       [-0. ,  5. , -0. ],\n",
       "       [ 0. , -0. ,  2.5]])"
      ]
     },
     "execution_count": 26,
     "metadata": {},
     "output_type": "execute_result"
    }
   ],
   "source": [
    "fm=fmpt(p)\n",
    "fm"
   ]
  },
  {
   "cell_type": "code",
   "execution_count": 28,
   "metadata": {},
   "outputs": [
    {
     "data": {
      "text/plain": [
       "array([[ 2.5, -0. ,  0. ],\n",
       "       [-0. ,  5. , -0. ],\n",
       "       [ 0. , -0. ,  2.5]])"
      ]
     },
     "execution_count": 28,
     "metadata": {},
     "output_type": "execute_result"
    }
   ],
   "source": [
    "P = p\n",
    "A = np.zeros_like(P)\n",
    "ss = steady_state(P)\n",
    "k = ss.shape[0]\n",
    "for i in range(k):\n",
    "    A[:, i] = ss\n",
    "A = A.transpose()\n",
    "I = np.identity(k)\n",
    "Z = la.inv(I - P + A)\n",
    "E = np.ones_like(Z)\n",
    "A_diag = np.diag(A)\n",
    "A_diag = A_diag + (A_diag==0)\n",
    "D = np.diag(1. / A_diag)\n",
    "Zdg = np.diag(np.diag(Z))\n",
    "M = (I - Z + E * Zdg) * D\n",
    "M"
   ]
  },
  {
   "cell_type": "code",
   "execution_count": 31,
   "metadata": {},
   "outputs": [
    {
     "data": {
      "text/plain": [
       "matrix([[0.4],\n",
       "        [0.2],\n",
       "        [0.4]])"
      ]
     },
     "execution_count": 31,
     "metadata": {},
     "output_type": "execute_result"
    }
   ],
   "source": [
    "np.matrix(steady_state(p)).reshape(3,1)"
   ]
  },
  {
   "cell_type": "code",
   "execution_count": 34,
   "metadata": {},
   "outputs": [
    {
     "data": {
      "text/plain": [
       "matrix([[0.4, 0.2, 0.4],\n",
       "        [0.4, 0.2, 0.4],\n",
       "        [0.4, 0.2, 0.4]])"
      ]
     },
     "execution_count": 34,
     "metadata": {},
     "output_type": "execute_result"
    }
   ],
   "source": [
    "A"
   ]
  },
  {
   "cell_type": "code",
   "execution_count": 44,
   "metadata": {},
   "outputs": [
    {
     "data": {
      "text/plain": [
       "array([[ 2.5, -0. ,  0. ],\n",
       "       [-0. ,  5. , -0. ],\n",
       "       [ 0. , -0. ,  2.5]])"
      ]
     },
     "execution_count": 44,
     "metadata": {},
     "output_type": "execute_result"
    }
   ],
   "source": [
    "ss = np.matrix(steady_state(p)).reshape(3,1)\n",
    "k = ss.shape[0]\n",
    "for i in range(k):\n",
    "    A[:, i] = ss\n",
    "A = A.transpose()\n",
    "I = np.identity(k)\n",
    "Z = np.array(la.inv(I - P + A))\n",
    "E = np.ones_like(Z)\n",
    "A_diag = np.diag(A)\n",
    "A_diag = A_diag + (A_diag==0)\n",
    "D = np.diag(1. / A_diag)\n",
    "Zdg = np.diag(np.diag(Z))\n",
    "M = (I - Z + E * Zdg) * D\n",
    "M"
   ]
  },
  {
   "cell_type": "code",
   "execution_count": 43,
   "metadata": {},
   "outputs": [
    {
     "data": {
      "text/plain": [
       "matrix([[ 1.14666667,  0.04      , -0.18666667],\n",
       "        [ 0.08      ,  0.84      ,  0.08      ],\n",
       "        [-0.18666667,  0.04      ,  1.14666667]])"
      ]
     },
     "execution_count": 43,
     "metadata": {},
     "output_type": "execute_result"
    }
   ],
   "source": [
    "Z"
   ]
  },
  {
   "cell_type": "code",
   "execution_count": 42,
   "metadata": {},
   "outputs": [
    {
     "data": {
      "text/plain": [
       "matrix([[1., 1., 1.],\n",
       "        [1., 1., 1.],\n",
       "        [1., 1., 1.]])"
      ]
     },
     "execution_count": 42,
     "metadata": {},
     "output_type": "execute_result"
    }
   ],
   "source": [
    "np.ones_like(Z)"
   ]
  },
  {
   "cell_type": "code",
   "execution_count": 38,
   "metadata": {},
   "outputs": [
    {
     "data": {
      "text/plain": [
       "matrix([[2.5       , 4.        , 3.33333333],\n",
       "        [2.66666667, 5.        , 2.66666667],\n",
       "        [3.33333333, 4.        , 2.5       ]])"
      ]
     },
     "execution_count": 38,
     "metadata": {},
     "output_type": "execute_result"
    }
   ],
   "source": [
    "A = np.zeros_like(P)\n",
    "ss = steady_state(P).reshape(3,1)\n",
    "k = ss.shape[0]\n",
    "for i in range(k):\n",
    "    A[:, i] = ss\n",
    "A = A.transpose()\n",
    "I = np.identity(k)\n",
    "Z = la.inv(I - P + A)\n",
    "E = np.ones_like(Z)\n",
    "A_diag = np.diag(A)\n",
    "A_diag = A_diag + (A_diag==0)\n",
    "D = np.diag(1. / A_diag)\n",
    "Zdg = np.diag(np.diag(Z))\n",
    "M = (I - Z + E * Zdg) * D\n",
    "M"
   ]
  },
  {
   "cell_type": "code",
   "execution_count": 39,
   "metadata": {},
   "outputs": [
    {
     "data": {
      "text/plain": [
       "array([[1.14666667, 0.        , 0.        ],\n",
       "       [0.        , 0.84      , 0.        ],\n",
       "       [0.        , 0.        , 1.14666667]])"
      ]
     },
     "execution_count": 39,
     "metadata": {},
     "output_type": "execute_result"
    }
   ],
   "source": [
    "Zdg"
   ]
  },
  {
   "cell_type": "code",
   "execution_count": 41,
   "metadata": {},
   "outputs": [
    {
     "data": {
      "text/plain": [
       "matrix([[1., 1., 1.],\n",
       "        [1., 1., 1.],\n",
       "        [1., 1., 1.]])"
      ]
     },
     "execution_count": 41,
     "metadata": {},
     "output_type": "execute_result"
    }
   ],
   "source": [
    "E"
   ]
  },
  {
   "cell_type": "code",
   "execution_count": null,
   "metadata": {},
   "outputs": [],
   "source": []
  },
  {
   "cell_type": "code",
   "execution_count": 17,
   "metadata": {},
   "outputs": [
    {
     "data": {
      "text/plain": [
       "array([0.4, 0.2, 0.4])"
      ]
     },
     "execution_count": 17,
     "metadata": {},
     "output_type": "execute_result"
    }
   ],
   "source": [
    "ss"
   ]
  },
  {
   "cell_type": "code",
   "execution_count": 13,
   "metadata": {},
   "outputs": [],
   "source": [
    "ss = steady_state(p)\n",
    "k = ss.shape[0]"
   ]
  },
  {
   "cell_type": "code",
   "execution_count": 14,
   "metadata": {},
   "outputs": [
    {
     "data": {
      "text/plain": [
       "3"
      ]
     },
     "execution_count": 14,
     "metadata": {},
     "output_type": "execute_result"
    }
   ],
   "source": [
    "k"
   ]
  },
  {
   "cell_type": "code",
   "execution_count": 15,
   "metadata": {},
   "outputs": [],
   "source": [
    "A = np.zeros_like(p)\n",
    "for i in range(k):\n",
    "    A[:, i] = ss"
   ]
  },
  {
   "cell_type": "code",
   "execution_count": 16,
   "metadata": {},
   "outputs": [
    {
     "data": {
      "text/plain": [
       "array([[0.4, 0.4, 0.4],\n",
       "       [0.2, 0.2, 0.2],\n",
       "       [0.4, 0.4, 0.4]])"
      ]
     },
     "execution_count": 16,
     "metadata": {},
     "output_type": "execute_result"
    }
   ],
   "source": [
    "A"
   ]
  },
  {
   "cell_type": "code",
   "execution_count": 22,
   "metadata": {},
   "outputs": [],
   "source": [
    "import numpy.linalg as la\n",
    "P = p\n",
    "A = A.transpose()\n",
    "I = np.identity(k)\n",
    "Z = la.inv(I - P + A)\n",
    "E = np.ones_like(Z)\n",
    "A_diag = np.diag(A)\n",
    "A_diag = A_diag + (A_diag==0)\n",
    "D = np.diag(1. / A_diag)\n",
    "Zdg = np.diag(np.diag(Z))\n",
    "M = (I - Z + E * Zdg) * D"
   ]
  },
  {
   "cell_type": "code",
   "execution_count": 23,
   "metadata": {},
   "outputs": [
    {
     "data": {
      "text/plain": [
       "array([[ 2.5, -0. ,  0. ],\n",
       "       [-0. ,  5. , -0. ],\n",
       "       [ 0. , -0. ,  2.5]])"
      ]
     },
     "execution_count": 23,
     "metadata": {},
     "output_type": "execute_result"
    }
   ],
   "source": [
    "M"
   ]
  },
  {
   "cell_type": "code",
   "execution_count": 2,
   "metadata": {},
   "outputs": [
    {
     "name": "stdout",
     "output_type": "stream",
     "text": [
      "--------------------------------------------------------------\n",
      "                  Spatial Markov Test: rpci                   \n",
      "--------------------------------------------------------------\n",
      "Number of classes: 5\n",
      "Number of transitions: 3840\n",
      "Number of regimes: 5\n",
      "Regime names: LAG0, LAG1, LAG2, LAG3, LAG4\n",
      "--------------------------------------------------------------\n",
      "   Test                   LR                Chi-2\n",
      "  Stat.              170.659              200.624\n",
      "    DOF                   60                   60\n",
      "p-value                0.000                0.000\n",
      "--------------------------------------------------------------\n",
      "P(H0)           C0         C1         C2         C3         C4\n",
      "     C0      0.915      0.075      0.009      0.001      0.000\n",
      "     C1      0.066      0.827      0.105      0.001      0.001\n",
      "     C2      0.005      0.103      0.794      0.095      0.003\n",
      "     C3      0.000      0.009      0.094      0.849      0.048\n",
      "     C4      0.000      0.000      0.000      0.062      0.938\n",
      "--------------------------------------------------------------\n",
      "P(LAG0)         C0         C1         C2         C3         C4\n",
      "     C0      0.963      0.030      0.006      0.000      0.000\n",
      "     C1      0.060      0.832      0.107      0.000      0.000\n",
      "     C2      0.000      0.140      0.740      0.120      0.000\n",
      "     C3      0.000      0.036      0.321      0.571      0.071\n",
      "     C4      0.000      0.000      0.000      0.167      0.833\n",
      "--------------------------------------------------------------\n",
      "P(LAG1)         C0         C1         C2         C3         C4\n",
      "     C0      0.798      0.168      0.034      0.000      0.000\n",
      "     C1      0.075      0.882      0.042      0.000      0.000\n",
      "     C2      0.005      0.070      0.866      0.059      0.000\n",
      "     C3      0.000      0.000      0.064      0.902      0.034\n",
      "     C4      0.000      0.000      0.000      0.194      0.806\n",
      "--------------------------------------------------------------\n",
      "P(LAG2)         C0         C1         C2         C3         C4\n",
      "     C0      0.847      0.153      0.000      0.000      0.000\n",
      "     C1      0.081      0.789      0.129      0.000      0.000\n",
      "     C2      0.005      0.098      0.793      0.098      0.005\n",
      "     C3      0.000      0.000      0.094      0.871      0.035\n",
      "     C4      0.000      0.000      0.000      0.102      0.898\n",
      "--------------------------------------------------------------\n",
      "P(LAG3)         C0         C1         C2         C3         C4\n",
      "     C0      0.885      0.098      0.000      0.016      0.000\n",
      "     C1      0.039      0.814      0.140      0.000      0.008\n",
      "     C2      0.005      0.094      0.777      0.119      0.005\n",
      "     C3      0.000      0.023      0.129      0.754      0.094\n",
      "     C4      0.000      0.000      0.000      0.097      0.903\n",
      "--------------------------------------------------------------\n",
      "P(LAG4)         C0         C1         C2         C3         C4\n",
      "     C0      0.333      0.667      0.000      0.000      0.000\n",
      "     C1      0.048      0.774      0.161      0.016      0.000\n",
      "     C2      0.011      0.161      0.747      0.080      0.000\n",
      "     C3      0.000      0.010      0.062      0.896      0.031\n",
      "     C4      0.000      0.000      0.000      0.024      0.976\n",
      "--------------------------------------------------------------\n"
     ]
    }
   ],
   "source": [
    "f = libpysal.open(libpysal.examples.get_path(\"usjoin.csv\"))\n",
    "pci = np.array([f.by_col[str(y)] for y in range(1929,2010)])\n",
    "pci = pci.transpose()\n",
    "rpci = pci/(pci.mean(axis=0))\n",
    "w = libpysal.open(libpysal.examples.get_path(\"states48.gal\")).read()\n",
    "w.transform = 'r'\n",
    "sm = Spatial_Markov(rpci, w, fixed=True, k=5, m=5, variable_name='rpci')\n",
    "sm.summary()"
   ]
  },
  {
   "cell_type": "code",
   "execution_count": 3,
   "metadata": {},
   "outputs": [
    {
     "data": {
      "text/plain": [
       "array([0.83999133, 0.94707545, 1.03242697, 1.14911154])"
      ]
     },
     "execution_count": 3,
     "metadata": {},
     "output_type": "execute_result"
    }
   ],
   "source": [
    "sm.cutoffs"
   ]
  },
  {
   "cell_type": "code",
   "execution_count": 4,
   "metadata": {},
   "outputs": [
    {
     "data": {
      "text/plain": [
       "array([0.88973386, 0.95891917, 1.01469758, 1.1183566 ])"
      ]
     },
     "execution_count": 4,
     "metadata": {},
     "output_type": "execute_result"
    }
   ],
   "source": [
    "sm.lag_cutoffs"
   ]
  },
  {
   "cell_type": "code",
   "execution_count": 5,
   "metadata": {},
   "outputs": [
    {
     "data": {
      "text/plain": [
       "array([[0, 0, 0, ..., 1, 1, 1],\n",
       "       [2, 2, 1, ..., 1, 1, 1],\n",
       "       [0, 0, 0, ..., 0, 0, 1],\n",
       "       ...,\n",
       "       [0, 0, 0, ..., 0, 0, 1],\n",
       "       [3, 3, 2, ..., 2, 2, 2],\n",
       "       [3, 3, 3, ..., 4, 4, 3]])"
      ]
     },
     "execution_count": 5,
     "metadata": {},
     "output_type": "execute_result"
    }
   ],
   "source": [
    "sm.class_ids"
   ]
  },
  {
   "cell_type": "code",
   "execution_count": 5,
   "metadata": {},
   "outputs": [
    {
     "name": "stdout",
     "output_type": "stream",
     "text": [
      "[[0.91461837 0.07503234 0.00905563 0.00129366 0.        ]\n",
      " [0.06570302 0.82654402 0.10512484 0.00131406 0.00131406]\n",
      " [0.00520833 0.10286458 0.79427083 0.09505208 0.00260417]\n",
      " [0.         0.00913838 0.09399478 0.84856397 0.04830287]\n",
      " [0.         0.         0.         0.06217617 0.93782383]]\n"
     ]
    }
   ],
   "source": [
    "print(sm.p)"
   ]
  },
  {
   "cell_type": "code",
   "execution_count": 4,
   "metadata": {},
   "outputs": [],
   "source": [
    "import libpysal as ps\n",
    "f = ps.open(ps.examples.get_path('usjoin.csv'))\n",
    "pci = np.array([f.by_col[str(y)] for y in range(1929, 2010)])\n",
    "pci = pci.transpose()\n",
    "rpci = pci / (pci.mean(axis=0))"
   ]
  },
  {
   "cell_type": "code",
   "execution_count": 6,
   "metadata": {},
   "outputs": [
    {
     "data": {
      "text/plain": [
       "array([[[0.96703297, 0.03296703, 0.        , 0.        , 0.        ],\n",
       "        [0.10638298, 0.68085106, 0.21276596, 0.        , 0.        ],\n",
       "        [0.        , 0.14285714, 0.7755102 , 0.08163265, 0.        ],\n",
       "        [0.        , 0.        , 0.5       , 0.5       , 0.        ],\n",
       "        [0.        , 0.        , 0.        , 0.        , 0.        ]],\n",
       "\n",
       "       [[0.88636364, 0.10606061, 0.00757576, 0.        , 0.        ],\n",
       "        [0.04402516, 0.89308176, 0.06289308, 0.        , 0.        ],\n",
       "        [0.        , 0.05882353, 0.8627451 , 0.07843137, 0.        ],\n",
       "        [0.        , 0.        , 0.13846154, 0.86153846, 0.        ],\n",
       "        [0.        , 0.        , 0.        , 0.        , 1.        ]],\n",
       "\n",
       "       [[0.78082192, 0.17808219, 0.02739726, 0.01369863, 0.        ],\n",
       "        [0.03488372, 0.90406977, 0.05813953, 0.00290698, 0.        ],\n",
       "        [0.        , 0.05919003, 0.84735202, 0.09034268, 0.00311526],\n",
       "        [0.        , 0.        , 0.05811623, 0.92985972, 0.01202405],\n",
       "        [0.        , 0.        , 0.        , 0.14285714, 0.85714286]],\n",
       "\n",
       "       [[0.82692308, 0.15384615, 0.        , 0.01923077, 0.        ],\n",
       "        [0.0703125 , 0.7890625 , 0.125     , 0.015625  , 0.        ],\n",
       "        [0.00295858, 0.06213018, 0.82248521, 0.10946746, 0.00295858],\n",
       "        [0.        , 0.00185529, 0.07606679, 0.88497217, 0.03710575],\n",
       "        [0.        , 0.        , 0.        , 0.07803468, 0.92196532]],\n",
       "\n",
       "       [[0.        , 0.        , 0.        , 0.        , 0.        ],\n",
       "        [0.        , 0.        , 0.        , 0.        , 0.        ],\n",
       "        [0.        , 0.06666667, 0.9       , 0.03333333, 0.        ],\n",
       "        [0.        , 0.        , 0.05660377, 0.90566038, 0.03773585],\n",
       "        [0.        , 0.        , 0.        , 0.03932584, 0.96067416]]])"
      ]
     },
     "execution_count": 6,
     "metadata": {},
     "output_type": "execute_result"
    }
   ],
   "source": [
    "cc = np.array([0.8, 0.9, 1, 1.2])\n",
    "sm = Spatial_Markov(rpci, w,cutoffs=cc, lag_cutoffs=cc)\n",
    "sm.P"
   ]
  },
  {
   "cell_type": "code",
   "execution_count": 8,
   "metadata": {},
   "outputs": [
    {
     "data": {
      "text/plain": [
       "array([[ 0.54148249,  0.16780007,  0.24991499,  0.04080245, -0.        ],\n",
       "       [ 0.12336693,  0.31843086,  0.35634884,  0.20185337, -0.        ],\n",
       "       [ 0.03607655,  0.22667277,  0.25883041,  0.43607249,  0.04234777],\n",
       "       [ 0.05016931,  0.11306259,  0.24790153,  0.39272546,  0.19614112],\n",
       "       [-0.        ,  0.01394504,  0.20625861,  0.31357586,  0.46622049]])"
      ]
     },
     "execution_count": 8,
     "metadata": {},
     "output_type": "execute_result"
    }
   ],
   "source": [
    "sm.S"
   ]
  },
  {
   "cell_type": "code",
   "execution_count": 10,
   "metadata": {},
   "outputs": [
    {
     "data": {
      "text/plain": [
       "matrix([[9.07547170e-01, 8.30188679e-02, 5.66037736e-03, 3.77358491e-03,\n",
       "         0.00000000e+00],\n",
       "        [4.86725664e-02, 8.64306785e-01, 8.25958702e-02, 4.42477876e-03,\n",
       "         0.00000000e+00],\n",
       "        [1.19047619e-03, 6.54761905e-02, 8.36904762e-01, 9.40476190e-02,\n",
       "         2.38095238e-03],\n",
       "        [0.00000000e+00, 8.23045267e-04, 7.24279835e-02, 9.02057613e-01,\n",
       "         2.46913580e-02],\n",
       "        [0.00000000e+00, 0.00000000e+00, 0.00000000e+00, 7.10571924e-02,\n",
       "         9.28942808e-01]])"
      ]
     },
     "execution_count": 10,
     "metadata": {},
     "output_type": "execute_result"
    }
   ],
   "source": [
    "sm.p"
   ]
  },
  {
   "cell_type": "code",
   "execution_count": 11,
   "metadata": {},
   "outputs": [
    {
     "data": {
      "text/plain": [
       "array([[4.810e+02, 4.400e+01, 3.000e+00, 2.000e+00, 0.000e+00],\n",
       "       [3.300e+01, 5.860e+02, 5.600e+01, 3.000e+00, 0.000e+00],\n",
       "       [1.000e+00, 5.500e+01, 7.030e+02, 7.900e+01, 2.000e+00],\n",
       "       [0.000e+00, 1.000e+00, 8.800e+01, 1.096e+03, 3.000e+01],\n",
       "       [0.000e+00, 0.000e+00, 0.000e+00, 4.100e+01, 5.360e+02]])"
      ]
     },
     "execution_count": 11,
     "metadata": {},
     "output_type": "execute_result"
    }
   ],
   "source": [
    "sm.transitions"
   ]
  },
  {
   "cell_type": "code",
   "execution_count": 12,
   "metadata": {},
   "outputs": [],
   "source": [
    "transitions = sm.transitions\n",
    "row_sum = transitions.sum(axis=1)"
   ]
  },
  {
   "cell_type": "code",
   "execution_count": 13,
   "metadata": {},
   "outputs": [
    {
     "data": {
      "text/plain": [
       "array([[9.07547170e-01, 8.30188679e-02, 5.66037736e-03, 3.77358491e-03,\n",
       "        0.00000000e+00],\n",
       "       [4.86725664e-02, 8.64306785e-01, 8.25958702e-02, 4.42477876e-03,\n",
       "        0.00000000e+00],\n",
       "       [1.19047619e-03, 6.54761905e-02, 8.36904762e-01, 9.40476190e-02,\n",
       "        2.38095238e-03],\n",
       "       [0.00000000e+00, 8.23045267e-04, 7.24279835e-02, 9.02057613e-01,\n",
       "        2.46913580e-02],\n",
       "       [0.00000000e+00, 0.00000000e+00, 0.00000000e+00, 7.10571924e-02,\n",
       "        9.28942808e-01]])"
      ]
     },
     "execution_count": 13,
     "metadata": {},
     "output_type": "execute_result"
    }
   ],
   "source": [
    "np.dot(np.diag(1 / (row_sum + (row_sum == 0))), transitions)"
   ]
  },
  {
   "cell_type": "code",
   "execution_count": 36,
   "metadata": {},
   "outputs": [],
   "source": [
    "import numpy.linalg as la\n",
    "v, d = la.eig(np.transpose(sm.P[0]))"
   ]
  },
  {
   "cell_type": "code",
   "execution_count": 37,
   "metadata": {},
   "outputs": [],
   "source": [
    "d = np.array(d)"
   ]
  },
  {
   "cell_type": "code",
   "execution_count": 38,
   "metadata": {},
   "outputs": [],
   "source": [
    "mv = max(v)"
   ]
  },
  {
   "cell_type": "code",
   "execution_count": 39,
   "metadata": {},
   "outputs": [
    {
     "data": {
      "text/plain": [
       "array([1.        , 0.94265065, 0.61293802, 0.36780557, 0.        ])"
      ]
     },
     "execution_count": 39,
     "metadata": {},
     "output_type": "execute_result"
    }
   ],
   "source": [
    "v"
   ]
  },
  {
   "cell_type": "code",
   "execution_count": 40,
   "metadata": {},
   "outputs": [],
   "source": [
    "i = v.tolist().index(mv)"
   ]
  },
  {
   "cell_type": "code",
   "execution_count": 41,
   "metadata": {},
   "outputs": [
    {
     "data": {
      "text/plain": [
       "0"
      ]
     },
     "execution_count": 41,
     "metadata": {},
     "output_type": "execute_result"
    }
   ],
   "source": [
    "i"
   ]
  },
  {
   "cell_type": "code",
   "execution_count": 45,
   "metadata": {},
   "outputs": [
    {
     "data": {
      "text/plain": [
       "array([0.87213173, 0.270265  , 0.40252234, 0.06571793, 0.        ])"
      ]
     },
     "execution_count": 45,
     "metadata": {},
     "output_type": "execute_result"
    }
   ],
   "source": [
    "abs(d[:, i]) "
   ]
  },
  {
   "cell_type": "code",
   "execution_count": 43,
   "metadata": {},
   "outputs": [
    {
     "data": {
      "text/plain": [
       "-1.610636995673892"
      ]
     },
     "execution_count": 43,
     "metadata": {},
     "output_type": "execute_result"
    }
   ],
   "source": [
    "sum(d[:, i])"
   ]
  },
  {
   "cell_type": "code",
   "execution_count": 44,
   "metadata": {},
   "outputs": [
    {
     "data": {
      "text/plain": [
       "array([ 0.54148249,  0.16780007,  0.24991499,  0.04080245, -0.        ])"
      ]
     },
     "execution_count": 44,
     "metadata": {},
     "output_type": "execute_result"
    }
   ],
   "source": [
    "d[:, i] / sum(d[:, i])"
   ]
  },
  {
   "cell_type": "code",
   "execution_count": 7,
   "metadata": {},
   "outputs": [
    {
     "data": {
      "text/plain": [
       "array([0.83999133, 0.94707545, 1.03242697, 1.14911154])"
      ]
     },
     "execution_count": 7,
     "metadata": {},
     "output_type": "execute_result"
    }
   ],
   "source": [
    "sm.cutoffs"
   ]
  },
  {
   "cell_type": "code",
   "execution_count": 8,
   "metadata": {},
   "outputs": [
    {
     "data": {
      "text/plain": [
       "array([0.91440247, 0.98583079, 1.08698351])"
      ]
     },
     "execution_count": 8,
     "metadata": {},
     "output_type": "execute_result"
    }
   ],
   "source": [
    "sm.lag_cutoffs"
   ]
  },
  {
   "cell_type": "code",
   "execution_count": 34,
   "metadata": {},
   "outputs": [],
   "source": [
    "row = d[:, i]"
   ]
  },
  {
   "cell_type": "code",
   "execution_count": 35,
   "metadata": {},
   "outputs": [
    {
     "data": {
      "text/plain": [
       "array([0.20335103, 0.37383522, 0.50808137, 0.70190225, 0.26092555])"
      ]
     },
     "execution_count": 35,
     "metadata": {},
     "output_type": "execute_result"
    }
   ],
   "source": [
    "row"
   ]
  },
  {
   "cell_type": "code",
   "execution_count": 9,
   "metadata": {},
   "outputs": [
    {
     "name": "stdout",
     "output_type": "stream",
     "text": [
      "[[0.95708955 0.03544776 0.00746269 0.         0.        ]\n",
      " [0.05825243 0.83980583 0.10194175 0.         0.        ]\n",
      " [0.         0.1294964  0.76258993 0.10791367 0.        ]\n",
      " [0.         0.01538462 0.18461538 0.72307692 0.07692308]\n",
      " [0.         0.         0.         0.14285714 0.85714286]]\n",
      "[[0.7421875  0.234375   0.0234375  0.         0.        ]\n",
      " [0.08550186 0.85130112 0.06319703 0.         0.        ]\n",
      " [0.00865801 0.06926407 0.86147186 0.05627706 0.004329  ]\n",
      " [0.         0.         0.05363985 0.92337165 0.02298851]\n",
      " [0.         0.         0.         0.13432836 0.86567164]]\n",
      "[[0.95145631 0.04854369 0.         0.         0.        ]\n",
      " [0.06       0.79       0.145      0.         0.005     ]\n",
      " [0.00358423 0.10394265 0.7921147  0.09677419 0.00358423]\n",
      " [0.         0.01630435 0.13586957 0.75543478 0.0923913 ]\n",
      " [0.         0.         0.         0.10204082 0.89795918]]\n",
      "[[0.16666667 0.66666667 0.         0.16666667 0.        ]\n",
      " [0.03488372 0.80232558 0.15116279 0.01162791 0.        ]\n",
      " [0.00840336 0.13445378 0.70588235 0.1512605  0.        ]\n",
      " [0.         0.01171875 0.08203125 0.87109375 0.03515625]\n",
      " [0.         0.         0.         0.03434343 0.96565657]]\n"
     ]
    }
   ],
   "source": [
    "for p in sm.P:\n",
    "     print(p)"
   ]
  },
  {
   "cell_type": "code",
   "execution_count": 10,
   "metadata": {},
   "outputs": [
    {
     "data": {
      "text/plain": [
       "'172.105'"
      ]
     },
     "execution_count": 10,
     "metadata": {},
     "output_type": "execute_result"
    }
   ],
   "source": [
    "\"%.3f\"%sm.LR"
   ]
  },
  {
   "cell_type": "code",
   "execution_count": 11,
   "metadata": {},
   "outputs": [
    {
     "data": {
      "text/plain": [
       "'321.128'"
      ]
     },
     "execution_count": 11,
     "metadata": {},
     "output_type": "execute_result"
    }
   ],
   "source": [
    "\"%.3f\"%sm.Q"
   ]
  },
  {
   "cell_type": "code",
   "execution_count": 12,
   "metadata": {},
   "outputs": [
    {
     "data": {
      "text/plain": [
       "'0.000'"
      ]
     },
     "execution_count": 12,
     "metadata": {},
     "output_type": "execute_result"
    }
   ],
   "source": [
    "\"%.3f\"%sm.LR_p_value"
   ]
  },
  {
   "cell_type": "code",
   "execution_count": 13,
   "metadata": {},
   "outputs": [
    {
     "data": {
      "text/plain": [
       "45"
      ]
     },
     "execution_count": 13,
     "metadata": {},
     "output_type": "execute_result"
    }
   ],
   "source": [
    "sm.dof_hom"
   ]
  },
  {
   "cell_type": "code",
   "execution_count": 14,
   "metadata": {},
   "outputs": [
    {
     "data": {
      "text/plain": [
       "array([0.83999133, 0.94707545, 1.03242697, 1.14911154])"
      ]
     },
     "execution_count": 14,
     "metadata": {},
     "output_type": "execute_result"
    }
   ],
   "source": [
    "sm.cutoffs"
   ]
  },
  {
   "cell_type": "code",
   "execution_count": 3,
   "metadata": {},
   "outputs": [],
   "source": [
    "cc = np.array([0.8, 0.9, 1, 1.2])"
   ]
  },
  {
   "cell_type": "code",
   "execution_count": 4,
   "metadata": {},
   "outputs": [
    {
     "name": "stdout",
     "output_type": "stream",
     "text": [
      "--------------------------------------------------------------\n",
      "                  Spatial Markov Test: rpci                   \n",
      "--------------------------------------------------------------\n",
      "Number of classes: 5\n",
      "Number of transitions: 3840\n",
      "Number of regimes: 5\n",
      "Regime names: LAG0, LAG1, LAG2, LAG3, LAG4\n",
      "--------------------------------------------------------------\n",
      "   Test                   LR                Chi-2\n",
      "  Stat.              104.187              117.419\n",
      "    DOF                   49                   49\n",
      "p-value                0.000                0.000\n",
      "--------------------------------------------------------------\n",
      "P(H0)           C0         C1         C2         C3         C4\n",
      "     C0      0.908      0.083      0.006      0.004      0.000\n",
      "     C1      0.049      0.864      0.083      0.004      0.000\n",
      "     C2      0.001      0.065      0.837      0.094      0.002\n",
      "     C3      0.000      0.001      0.072      0.902      0.025\n",
      "     C4      0.000      0.000      0.000      0.071      0.929\n",
      "--------------------------------------------------------------\n",
      "P(LAG0)         C0         C1         C2         C3         C4\n",
      "     C0      0.967      0.033      0.000      0.000      0.000\n",
      "     C1      0.106      0.681      0.213      0.000      0.000\n",
      "     C2      0.000      0.143      0.776      0.082      0.000\n",
      "     C3      0.000      0.000      0.500      0.500      0.000\n",
      "     C4      0.000      0.000      0.000      0.000      0.000\n",
      "--------------------------------------------------------------\n",
      "P(LAG1)         C0         C1         C2         C3         C4\n",
      "     C0      0.886      0.106      0.008      0.000      0.000\n",
      "     C1      0.044      0.893      0.063      0.000      0.000\n",
      "     C2      0.000      0.059      0.863      0.078      0.000\n",
      "     C3      0.000      0.000      0.138      0.862      0.000\n",
      "     C4      0.000      0.000      0.000      0.000      1.000\n",
      "--------------------------------------------------------------\n",
      "P(LAG2)         C0         C1         C2         C3         C4\n",
      "     C0      0.781      0.178      0.027      0.014      0.000\n",
      "     C1      0.035      0.904      0.058      0.003      0.000\n",
      "     C2      0.000      0.059      0.847      0.090      0.003\n",
      "     C3      0.000      0.000      0.058      0.930      0.012\n",
      "     C4      0.000      0.000      0.000      0.143      0.857\n",
      "--------------------------------------------------------------\n",
      "P(LAG3)         C0         C1         C2         C3         C4\n",
      "     C0      0.827      0.154      0.000      0.019      0.000\n",
      "     C1      0.070      0.789      0.125      0.016      0.000\n",
      "     C2      0.003      0.062      0.822      0.109      0.003\n",
      "     C3      0.000      0.002      0.076      0.885      0.037\n",
      "     C4      0.000      0.000      0.000      0.078      0.922\n",
      "--------------------------------------------------------------\n",
      "P(LAG4)         C0         C1         C2         C3         C4\n",
      "     C0      0.000      0.000      0.000      0.000      0.000\n",
      "     C1      0.000      0.000      0.000      0.000      0.000\n",
      "     C2      0.000      0.067      0.900      0.033      0.000\n",
      "     C3      0.000      0.000      0.057      0.906      0.038\n",
      "     C4      0.000      0.000      0.000      0.039      0.961\n",
      "--------------------------------------------------------------\n"
     ]
    }
   ],
   "source": [
    "sm = Spatial_Markov(rpci, w, cutoffs=cc, lag_cutoffs=cc, variable_name='rpci')\n",
    "sm.summary()"
   ]
  },
  {
   "cell_type": "code",
   "execution_count": 5,
   "metadata": {},
   "outputs": [
    {
     "data": {
      "text/plain": [
       "array([0.8, 0.9, 1. , 1.2])"
      ]
     },
     "execution_count": 5,
     "metadata": {},
     "output_type": "execute_result"
    }
   ],
   "source": [
    "sm.cutoffs"
   ]
  },
  {
   "cell_type": "code",
   "execution_count": 6,
   "metadata": {},
   "outputs": [
    {
     "data": {
      "text/plain": [
       "array([0.8, 0.9, 1. , 1.2])"
      ]
     },
     "execution_count": 6,
     "metadata": {},
     "output_type": "execute_result"
    }
   ],
   "source": [
    "sm.lag_cutoffs"
   ]
  },
  {
   "cell_type": "code",
   "execution_count": 7,
   "metadata": {},
   "outputs": [
    {
     "data": {
      "text/plain": [
       "5"
      ]
     },
     "execution_count": 7,
     "metadata": {},
     "output_type": "execute_result"
    }
   ],
   "source": [
    "sm.k"
   ]
  },
  {
   "cell_type": "code",
   "execution_count": 8,
   "metadata": {},
   "outputs": [
    {
     "data": {
      "text/plain": [
       "5"
      ]
     },
     "execution_count": 8,
     "metadata": {},
     "output_type": "execute_result"
    }
   ],
   "source": [
    "sm.m"
   ]
  },
  {
   "cell_type": "code",
   "execution_count": 6,
   "metadata": {},
   "outputs": [
    {
     "name": "stdout",
     "output_type": "stream",
     "text": [
      "[[0.96703297 0.03296703 0.         0.         0.        ]\n",
      " [0.10638298 0.68085106 0.21276596 0.         0.        ]\n",
      " [0.         0.14285714 0.7755102  0.08163265 0.        ]\n",
      " [0.         0.         0.5        0.5        0.        ]\n",
      " [0.         0.         0.         0.         0.        ]]\n",
      "[[0.88636364 0.10606061 0.00757576 0.         0.        ]\n",
      " [0.04402516 0.89308176 0.06289308 0.         0.        ]\n",
      " [0.         0.05882353 0.8627451  0.07843137 0.        ]\n",
      " [0.         0.         0.13846154 0.86153846 0.        ]\n",
      " [0.         0.         0.         0.         1.        ]]\n",
      "[[0.78082192 0.17808219 0.02739726 0.01369863 0.        ]\n",
      " [0.03488372 0.90406977 0.05813953 0.00290698 0.        ]\n",
      " [0.         0.05919003 0.84735202 0.09034268 0.00311526]\n",
      " [0.         0.         0.05811623 0.92985972 0.01202405]\n",
      " [0.         0.         0.         0.14285714 0.85714286]]\n",
      "[[0.82692308 0.15384615 0.         0.01923077 0.        ]\n",
      " [0.0703125  0.7890625  0.125      0.015625   0.        ]\n",
      " [0.00295858 0.06213018 0.82248521 0.10946746 0.00295858]\n",
      " [0.         0.00185529 0.07606679 0.88497217 0.03710575]\n",
      " [0.         0.         0.         0.07803468 0.92196532]]\n",
      "[[0.         0.         0.         0.         0.        ]\n",
      " [0.         0.         0.         0.         0.        ]\n",
      " [0.         0.06666667 0.9        0.03333333 0.        ]\n",
      " [0.         0.         0.05660377 0.90566038 0.03773585]\n",
      " [0.         0.         0.         0.03932584 0.96067416]]\n"
     ]
    }
   ],
   "source": [
    "for p in sm.P:\n",
    "    print(p)"
   ]
  },
  {
   "cell_type": "code",
   "execution_count": null,
   "metadata": {},
   "outputs": [],
   "source": [
    "sm = Spatial_Markov(rpci, w, fixed=False, k=5, m=4, variable_name='rpci')\n",
    "sm.summary()"
   ]
  },
  {
   "cell_type": "code",
   "execution_count": null,
   "metadata": {},
   "outputs": [],
   "source": []
  },
  {
   "cell_type": "code",
   "execution_count": 6,
   "metadata": {},
   "outputs": [],
   "source": [
    "y = mc.Quantiles(rpci.flatten(), k=5).yb.reshape(rpci.shape)"
   ]
  },
  {
   "cell_type": "code",
   "execution_count": 7,
   "metadata": {},
   "outputs": [],
   "source": [
    "\n",
    "sm = Spatial_Markov(y, w, discrete=True, variable_name='discretized rpci')"
   ]
  },
  {
   "cell_type": "code",
   "execution_count": 8,
   "metadata": {},
   "outputs": [
    {
     "data": {
      "text/plain": [
       "array([0, 1, 2, 3, 4])"
      ]
     },
     "execution_count": 8,
     "metadata": {},
     "output_type": "execute_result"
    }
   ],
   "source": [
    "sm.classes"
   ]
  },
  {
   "cell_type": "code",
   "execution_count": 9,
   "metadata": {},
   "outputs": [],
   "source": [
    "rpci = pci / (pci.mean(axis=0))"
   ]
  },
  {
   "cell_type": "code",
   "execution_count": 11,
   "metadata": {},
   "outputs": [
    {
     "data": {
      "text/plain": [
       "array([[0, 1, 1, ..., 2, 2, 2],\n",
       "       [1, 3, 1, ..., 2, 3, 2],\n",
       "       [2, 1, 3, ..., 3, 3, 0],\n",
       "       ...,\n",
       "       [2, 3, 2, ..., 0, 2, 1],\n",
       "       [1, 0, 2, ..., 0, 0, 3],\n",
       "       [1, 3, 0, ..., 1, 2, 2]])"
      ]
     },
     "execution_count": 11,
     "metadata": {},
     "output_type": "execute_result"
    }
   ],
   "source": [
    "discretized = (rpci * 100).astype(int) % 4\n",
    "discretized"
   ]
  },
  {
   "cell_type": "code",
   "execution_count": 17,
   "metadata": {},
   "outputs": [],
   "source": [
    "import libpysal as ps\n",
    "w = ps.weights.Contiguity.Queen.from_shapefile(ps.examples.get_path('us48.shp'))\n",
    "np.random.seed(24788)"
   ]
  },
  {
   "cell_type": "code",
   "execution_count": 18,
   "metadata": {},
   "outputs": [],
   "source": [
    "sm = Spatial_Markov(discretized, w, discrete=True)"
   ]
  },
  {
   "cell_type": "code",
   "execution_count": 19,
   "metadata": {},
   "outputs": [
    {
     "data": {
      "text/plain": [
       "array([0, 1, 2, 3])"
      ]
     },
     "execution_count": 19,
     "metadata": {},
     "output_type": "execute_result"
    }
   ],
   "source": [
    "sm.classes"
   ]
  },
  {
   "cell_type": "code",
   "execution_count": 21,
   "metadata": {},
   "outputs": [
    {
     "data": {
      "text/plain": [
       "array([[0, 1, 1, ..., 2, 2, 2],\n",
       "       [1, 3, 1, ..., 2, 3, 2],\n",
       "       [2, 1, 3, ..., 3, 3, 0],\n",
       "       ...,\n",
       "       [2, 3, 2, ..., 0, 2, 1],\n",
       "       [1, 0, 2, ..., 0, 0, 3],\n",
       "       [1, 3, 0, ..., 1, 2, 2]])"
      ]
     },
     "execution_count": 21,
     "metadata": {},
     "output_type": "execute_result"
    }
   ],
   "source": [
    "sm.class_ids"
   ]
  },
  {
   "cell_type": "code",
   "execution_count": 22,
   "metadata": {},
   "outputs": [
    {
     "data": {
      "text/plain": [
       "array([[[ 82.,  80.,  72.,  86.],\n",
       "        [ 85., 100.,  88.,  78.],\n",
       "        [ 74.,  90., 116.,  75.],\n",
       "        [ 89.,  65.,  78.,  86.]],\n",
       "\n",
       "       [[ 73.,  59.,  45.,  67.],\n",
       "        [ 64.,  62.,  62.,  54.],\n",
       "        [ 63.,  60.,  71.,  73.],\n",
       "        [ 51.,  55.,  86.,  74.]],\n",
       "\n",
       "       [[ 68.,  53.,  46.,  61.],\n",
       "        [ 44.,  52.,  60.,  37.],\n",
       "        [ 41.,  45.,  79.,  50.],\n",
       "        [ 43.,  55.,  57.,  70.]],\n",
       "\n",
       "       [[ 46.,  41.,  34.,  28.],\n",
       "        [ 40.,  45.,  39.,  35.],\n",
       "        [ 38.,  51.,  43.,  40.],\n",
       "        [ 37.,  25.,  41.,  33.]]])"
      ]
     },
     "execution_count": 22,
     "metadata": {},
     "output_type": "execute_result"
    }
   ],
   "source": [
    "sm.T"
   ]
  },
  {
   "cell_type": "code",
   "execution_count": 31,
   "metadata": {},
   "outputs": [],
   "source": [
    "ps.lag_categorical?"
   ]
  },
  {
   "cell_type": "code",
   "execution_count": 30,
   "metadata": {},
   "outputs": [
    {
     "data": {
      "text/plain": [
       "array([[0, 0, 0, ..., 1, 1, 1],\n",
       "       [4, 4, 0, ..., 3, 3, 3],\n",
       "       [0, 0, 0, ..., 1, 1, 1],\n",
       "       ...,\n",
       "       [4, 4, 4, ..., 0, 0, 4],\n",
       "       [4, 4, 4, ..., 3, 3, 3],\n",
       "       [2, 1, 0, ..., 1, 1, 2]])"
      ]
     },
     "execution_count": 30,
     "metadata": {},
     "output_type": "execute_result"
    }
   ],
   "source": [
    "import libpysal.api as ps\n",
    "ps.lag_categorical(w, sm.classes)"
   ]
  },
  {
   "cell_type": "code",
   "execution_count": 26,
   "metadata": {
    "scrolled": true
   },
   "outputs": [
    {
     "name": "stdout",
     "output_type": "stream",
     "text": [
      "[[0.94412331 0.04624277 0.00963391 0.         0.        ]\n",
      " [0.06504065 0.82113821 0.11382114 0.         0.        ]\n",
      " [0.         0.15151515 0.77777778 0.07070707 0.        ]\n",
      " [0.         0.02777778 0.25       0.66666667 0.05555556]\n",
      " [0.         0.         0.         0.15384615 0.84615385]]\n",
      "[[0.896      0.096      0.008      0.         0.        ]\n",
      " [0.06810036 0.83870968 0.09318996 0.         0.        ]\n",
      " [0.00636943 0.0955414  0.82802548 0.07006369 0.        ]\n",
      " [0.         0.         0.0729927  0.87591241 0.05109489]\n",
      " [0.         0.         0.         0.125      0.875     ]]\n",
      "[[0.67346939 0.30612245 0.02040816 0.         0.        ]\n",
      " [0.07179487 0.81538462 0.10769231 0.         0.00512821]\n",
      " [0.01071429 0.09642857 0.77142857 0.11428571 0.00714286]\n",
      " [0.         0.00558659 0.09497207 0.8547486  0.04469274]\n",
      " [0.         0.         0.         0.125      0.875     ]]\n",
      "[[0.9137931  0.06896552 0.         0.01724138 0.        ]\n",
      " [0.07407407 0.88888889 0.03703704 0.         0.        ]\n",
      " [0.         0.05426357 0.86821705 0.07751938 0.        ]\n",
      " [0.         0.02173913 0.10869565 0.79891304 0.07065217]\n",
      " [0.         0.         0.         0.09022556 0.90977444]]\n",
      "[[0.86363636 0.13636364 0.         0.         0.        ]\n",
      " [0.01785714 0.69642857 0.26785714 0.01785714 0.        ]\n",
      " [0.         0.14563107 0.72815534 0.12621359 0.        ]\n",
      " [0.         0.00434783 0.06956522 0.89565217 0.03043478]\n",
      " [0.         0.         0.         0.03754941 0.96245059]]\n"
     ]
    }
   ],
   "source": [
    "for p in sm.P:\n",
    "    print(p)"
   ]
  },
  {
   "cell_type": "code",
   "execution_count": 22,
   "metadata": {},
   "outputs": [],
   "source": [
    "sm = Spatial_Markov(y, w, discrete=True, variable_name='discretized rpci')"
   ]
  },
  {
   "cell_type": "code",
   "execution_count": 25,
   "metadata": {},
   "outputs": [
    {
     "data": {
      "text/plain": [
       "5"
      ]
     },
     "execution_count": 25,
     "metadata": {},
     "output_type": "execute_result"
    }
   ],
   "source": [
    "sm.k"
   ]
  },
  {
   "cell_type": "code",
   "execution_count": 26,
   "metadata": {},
   "outputs": [
    {
     "data": {
      "text/plain": [
       "5"
      ]
     },
     "execution_count": 26,
     "metadata": {},
     "output_type": "execute_result"
    }
   ],
   "source": [
    "sm.m"
   ]
  },
  {
   "cell_type": "code",
   "execution_count": 28,
   "metadata": {},
   "outputs": [
    {
     "name": "stdout",
     "output_type": "stream",
     "text": [
      "[[0.94401544 0.04826255 0.00772201 0.         0.        ]\n",
      " [0.06451613 0.83064516 0.10483871 0.         0.        ]\n",
      " [0.         0.09677419 0.8172043  0.08602151 0.        ]\n",
      " [0.         0.02702703 0.24324324 0.64864865 0.08108108]\n",
      " [0.         0.         0.         0.25       0.75      ]]\n",
      "[[0.8976378  0.09448819 0.00787402 0.         0.        ]\n",
      " [0.06315789 0.83157895 0.10526316 0.         0.        ]\n",
      " [0.00653595 0.10457516 0.81045752 0.07843137 0.        ]\n",
      " [0.         0.         0.0729927  0.89051095 0.03649635]\n",
      " [0.         0.         0.         0.12       0.88      ]]\n",
      "[[0.68888889 0.28888889 0.02222222 0.         0.        ]\n",
      " [0.08333333 0.8125     0.09895833 0.         0.00520833]\n",
      " [0.01048951 0.11188811 0.75874126 0.11188811 0.00699301]\n",
      " [0.         0.00558659 0.08938547 0.86592179 0.03910615]\n",
      " [0.         0.         0.         0.14285714 0.85714286]]\n",
      "[[0.87301587 0.0952381  0.01587302 0.01587302 0.        ]\n",
      " [0.05769231 0.91346154 0.02884615 0.         0.        ]\n",
      " [0.         0.05343511 0.88549618 0.0610687  0.        ]\n",
      " [0.         0.02259887 0.12429379 0.7740113  0.07909605]\n",
      " [0.         0.         0.         0.0703125  0.9296875 ]]\n",
      "[[0.9        0.1        0.         0.         0.        ]\n",
      " [0.03571429 0.67857143 0.26785714 0.01785714 0.        ]\n",
      " [0.         0.14285714 0.73333333 0.12380952 0.        ]\n",
      " [0.         0.00423729 0.06355932 0.89830508 0.03389831]\n",
      " [0.         0.         0.         0.0390625  0.9609375 ]]\n"
     ]
    }
   ],
   "source": [
    "for p in sm.P:\n",
    "    print(p)"
   ]
  },
  {
   "cell_type": "code",
   "execution_count": 15,
   "metadata": {},
   "outputs": [
    {
     "data": {
      "text/plain": [
       "array([[0, 0, 0, ..., 1, 1, 1],\n",
       "       [2, 2, 1, ..., 1, 1, 1],\n",
       "       [0, 0, 0, ..., 0, 0, 1],\n",
       "       ...,\n",
       "       [0, 0, 0, ..., 0, 0, 1],\n",
       "       [3, 3, 2, ..., 2, 2, 2],\n",
       "       [3, 3, 3, ..., 4, 4, 3]])"
      ]
     },
     "execution_count": 15,
     "metadata": {},
     "output_type": "execute_result"
    }
   ],
   "source": [
    "y = mc.Quantiles(rpci.flatten(), k=5).yb\n",
    "y_pool = y.flatten()\n",
    "le = preprocessing.LabelEncoder()\n",
    "le.fit(y_pool)\n",
    "y_pool_int = le.transform(y_pool)\n",
    "yint = y_pool_int.reshape(rpci.shape)\n",
    "yint"
   ]
  },
  {
   "cell_type": "code",
   "execution_count": null,
   "metadata": {},
   "outputs": [],
   "source": []
  },
  {
   "cell_type": "code",
   "execution_count": null,
   "metadata": {},
   "outputs": [],
   "source": []
  },
  {
   "cell_type": "code",
   "execution_count": 25,
   "metadata": {},
   "outputs": [
    {
     "data": {
      "text/plain": [
       "4"
      ]
     },
     "execution_count": 25,
     "metadata": {},
     "output_type": "execute_result"
    }
   ],
   "source": [
    "len(np.unique(y))"
   ]
  },
  {
   "cell_type": "code",
   "execution_count": 22,
   "metadata": {},
   "outputs": [],
   "source": [
    "y_pool = y.flatten()\n",
    "le = preprocessing.LabelEncoder()\n",
    "le.fit(y_pool)\n",
    "y_pool_int = le.transform(y_pool)\n",
    "yint = y_pool_int.reshape(y.shape)"
   ]
  },
  {
   "cell_type": "code",
   "execution_count": 27,
   "metadata": {},
   "outputs": [
    {
     "data": {
      "text/plain": [
       "4"
      ]
     },
     "execution_count": 27,
     "metadata": {},
     "output_type": "execute_result"
    }
   ],
   "source": [
    "len(le.classes_)"
   ]
  },
  {
   "cell_type": "code",
   "execution_count": 23,
   "metadata": {},
   "outputs": [
    {
     "data": {
      "text/plain": [
       "array([[0, 1, 3, 3, 0, 2],\n",
       "       [0, 1, 3, 3, 0, 0]])"
      ]
     },
     "execution_count": 23,
     "metadata": {},
     "output_type": "execute_result"
    }
   ],
   "source": [
    "yint"
   ]
  },
  {
   "cell_type": "code",
   "execution_count": 4,
   "metadata": {},
   "outputs": [
    {
     "ename": "AttributeError",
     "evalue": "module 'mapclassify' has no attribute 'api'",
     "output_type": "error",
     "traceback": [
      "\u001b[0;31m---------------------------------------------------------------------------\u001b[0m",
      "\u001b[0;31mAttributeError\u001b[0m                            Traceback (most recent call last)",
      "\u001b[0;32m<ipython-input-4-675081ece557>\u001b[0m in \u001b[0;36m<module>\u001b[0;34m()\u001b[0m\n\u001b[0;32m----> 1\u001b[0;31m \u001b[0mmc\u001b[0m\u001b[0;34m.\u001b[0m\u001b[0mapi\u001b[0m\u001b[0;34m\u001b[0m\u001b[0m\n\u001b[0m",
      "\u001b[0;31mAttributeError\u001b[0m: module 'mapclassify' has no attribute 'api'"
     ]
    }
   ],
   "source": [
    "mc.api"
   ]
  },
  {
   "cell_type": "code",
   "execution_count": null,
   "metadata": {},
   "outputs": [],
   "source": []
  }
 ],
 "metadata": {
  "kernelspec": {
   "display_name": "Python 3",
   "language": "python",
   "name": "python3"
  },
  "language_info": {
   "codemirror_mode": {
    "name": "ipython",
    "version": 3
   },
   "file_extension": ".py",
   "mimetype": "text/x-python",
   "name": "python",
   "nbconvert_exporter": "python",
   "pygments_lexer": "ipython3",
   "version": "3.7.4"
  }
 },
 "nbformat": 4,
 "nbformat_minor": 2
}
